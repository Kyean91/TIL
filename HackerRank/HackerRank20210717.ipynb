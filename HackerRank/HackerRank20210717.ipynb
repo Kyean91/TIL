{
 "cells": [
  {
   "cell_type": "markdown",
   "id": "c7e54784-f2cd-4e81-bb33-b40ba6fdc1c4",
   "metadata": {},
   "source": [
    "## 55. Esceptions"
   ]
  },
  {
   "cell_type": "code",
   "execution_count": 3,
   "id": "4d88672a-a13b-43c6-93f4-75ea89be76b8",
   "metadata": {},
   "outputs": [
    {
     "name": "stdin",
     "output_type": "stream",
     "text": [
      " 3\n",
      " 1 0\n"
     ]
    },
    {
     "name": "stdout",
     "output_type": "stream",
     "text": [
      "Error Code :  integer division or modulo by zero\n"
     ]
    },
    {
     "name": "stdin",
     "output_type": "stream",
     "text": [
      " 2 $\n"
     ]
    },
    {
     "name": "stdout",
     "output_type": "stream",
     "text": [
      "Error Code :  invalid literal for int() with base 10: '$'\n"
     ]
    },
    {
     "name": "stdin",
     "output_type": "stream",
     "text": [
      " 3 1\n"
     ]
    },
    {
     "name": "stdout",
     "output_type": "stream",
     "text": [
      "3\n"
     ]
    }
   ],
   "source": [
    "t = int(input())\n",
    "\n",
    "for i in range(t) : \n",
    "    try :\n",
    "        a, b = input().split()\n",
    "        print(int(a) // int(b))\n",
    "        \n",
    "    except ZeroDivisionError as ze :\n",
    "        print('Error Code:', ze)\n",
    "        \n",
    "    except ValueError as ve :\n",
    "        print('Error Code:', ve)"
   ]
  },
  {
   "cell_type": "markdown",
   "id": "91d429c1-b61d-4cb5-a1bc-b450af3c4e2f",
   "metadata": {},
   "source": [
    "## 56. Incorrect Regex"
   ]
  },
  {
   "cell_type": "code",
   "execution_count": 6,
   "id": "61d5fff0-b2ae-4057-af77-e7aa32cc780b",
   "metadata": {},
   "outputs": [
    {
     "name": "stdin",
     "output_type": "stream",
     "text": [
      " 2\n",
      " .*\\+\n"
     ]
    },
    {
     "name": "stdout",
     "output_type": "stream",
     "text": [
      "True\n"
     ]
    },
    {
     "name": "stdin",
     "output_type": "stream",
     "text": [
      " .*+\n"
     ]
    },
    {
     "name": "stdout",
     "output_type": "stream",
     "text": [
      "False\n"
     ]
    }
   ],
   "source": [
    "import re\n",
    "\n",
    "t = int(input())\n",
    "\n",
    "for i in range(t) :\n",
    "    try :\n",
    "        re.compile(input())\n",
    "        result = True\n",
    "    except re.error :\n",
    "        result = False\n",
    "    print(result)"
   ]
  },
  {
   "cell_type": "markdown",
   "id": "41a95a10-1e21-494e-b6c7-607c7004bfe1",
   "metadata": {},
   "source": [
    "## 57. ginortS"
   ]
  },
  {
   "cell_type": "code",
   "execution_count": 21,
   "id": "9936e14e-9da4-4087-ae1f-4e80d35ebe97",
   "metadata": {},
   "outputs": [
    {
     "name": "stdin",
     "output_type": "stream",
     "text": [
      " Sorting1234\n"
     ]
    },
    {
     "name": "stdout",
     "output_type": "stream",
     "text": [
      "ginortS1324\n"
     ]
    }
   ],
   "source": [
    "import re\n",
    "\n",
    "s = input()\n",
    "\n",
    "series = \"[a-z]\", \"[A-Z]\", \"[13579]\", \"[02468]\"\n",
    "\n",
    "print(\"\".join(map(lambda x : \"\".join(sorted(re.findall(x, s))), series)))"
   ]
  }
 ],
 "metadata": {
  "kernelspec": {
   "display_name": "Python 3 (ipykernel)",
   "language": "python",
   "name": "python3"
  },
  "language_info": {
   "codemirror_mode": {
    "name": "ipython",
    "version": 3
   },
   "file_extension": ".py",
   "mimetype": "text/x-python",
   "name": "python",
   "nbconvert_exporter": "python",
   "pygments_lexer": "ipython3",
   "version": "3.8.10"
  }
 },
 "nbformat": 4,
 "nbformat_minor": 5
}

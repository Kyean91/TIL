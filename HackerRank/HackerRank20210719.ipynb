{
 "cells": [
  {
   "cell_type": "markdown",
   "id": "76cc7909-3abf-42dc-8640-a1a36c73f161",
   "metadata": {},
   "source": [
    "## 61. Iterables and Iterators\n",
    "\n"
   ]
  },
  {
   "cell_type": "code",
   "execution_count": 19,
   "id": "8a17f3dc-18ab-4bb3-97b8-f8741ed89f1b",
   "metadata": {},
   "outputs": [
    {
     "name": "stdin",
     "output_type": "stream",
     "text": [
      " 4\n",
      " a a c d\n",
      " 2\n"
     ]
    },
    {
     "name": "stdout",
     "output_type": "stream",
     "text": [
      "0.8333\n"
     ]
    }
   ],
   "source": [
    "from itertools import combinations\n",
    "\n",
    "n = int(input())\n",
    "string = list(map(str, input().split()))\n",
    "k = int(input())\n",
    "temp = list(combinations(string, k))\n",
    "t = 0\n",
    "\n",
    "for i in range(len(temp)) :\n",
    "    if 'a' in temp[i] :\n",
    "        t += 1\n",
    "print(round(t / len(temp), 4))"
   ]
  },
  {
   "cell_type": "markdown",
   "id": "70c13248-ac4b-4b8c-a22e-feb5d7d0e34e",
   "metadata": {},
   "source": [
    "## 62. Set .add()"
   ]
  },
  {
   "cell_type": "code",
   "execution_count": 4,
   "id": "dacd583c-7268-40ea-855e-64e9c8c196a4",
   "metadata": {},
   "outputs": [
    {
     "name": "stdin",
     "output_type": "stream",
     "text": [
      " 7\n",
      " UK\n",
      " China\n",
      " USA\n",
      " France\n",
      " New Zealand\n",
      " UK\n",
      " France\n"
     ]
    },
    {
     "name": "stdout",
     "output_type": "stream",
     "text": [
      "5\n"
     ]
    }
   ],
   "source": [
    "n = int(input())\n",
    "result = set('')\n",
    "\n",
    "for i in range(n) :\n",
    "    result.add(input())\n",
    "    \n",
    "print(len(result))"
   ]
  },
  {
   "cell_type": "markdown",
   "id": "6999dc74-9bd6-4c6e-8b40-ab73334d74a7",
   "metadata": {},
   "source": [
    "## 63. Set .discard(), .remove() & .pop()"
   ]
  },
  {
   "cell_type": "code",
   "execution_count": 10,
   "id": "4a3c80a7-8bf7-4b4a-8816-bca97c924d0d",
   "metadata": {},
   "outputs": [
    {
     "name": "stdin",
     "output_type": "stream",
     "text": [
      " 9\n",
      " 1 2 3 4 5 6 7 8 9\n",
      " 10\n",
      " pop\n",
      " remove 9\n",
      " discard 9\n",
      " discard 8\n",
      " remove 7\n",
      " pop\n",
      " discard 6\n",
      " remove 5\n",
      " pop\n",
      " discard 5\n"
     ]
    },
    {
     "name": "stdout",
     "output_type": "stream",
     "text": [
      "4\n"
     ]
    }
   ],
   "source": [
    "n = int(input())\n",
    "s = set(map(int, input().split()))\n",
    "N = int(input())\n",
    "\n",
    "for i in range(N) :\n",
    "    inp = input()\n",
    "    if inp == 'pop' :\n",
    "        s.pop()\n",
    "    else :\n",
    "        command, num = inp.split()\n",
    "        if command == 'remove' :\n",
    "            s.remove(int(num))\n",
    "        elif command == 'discard' :\n",
    "            s.discard(int(num))\n",
    "print(sum(s))"
   ]
  }
 ],
 "metadata": {
  "kernelspec": {
   "display_name": "Python 3 (ipykernel)",
   "language": "python",
   "name": "python3"
  },
  "language_info": {
   "codemirror_mode": {
    "name": "ipython",
    "version": 3
   },
   "file_extension": ".py",
   "mimetype": "text/x-python",
   "name": "python",
   "nbconvert_exporter": "python",
   "pygments_lexer": "ipython3",
   "version": "3.8.10"
  }
 },
 "nbformat": 4,
 "nbformat_minor": 5
}

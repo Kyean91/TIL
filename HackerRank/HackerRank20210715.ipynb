{
 "cells": [
  {
   "cell_type": "markdown",
   "id": "e84d4dd4-7c53-4ad1-8d44-51fb4fcfdec4",
   "metadata": {},
   "source": [
    "## 49. Introduction to Sets"
   ]
  },
  {
   "cell_type": "code",
   "execution_count": 5,
   "id": "37319dee-a6a0-407a-b518-db7a0fa0f27b",
   "metadata": {},
   "outputs": [
    {
     "name": "stdin",
     "output_type": "stream",
     "text": [
      " 10\n",
      " 161 182 161 154 176 170 167 171 170 174\n"
     ]
    },
    {
     "name": "stdout",
     "output_type": "stream",
     "text": [
      "169.375\n"
     ]
    }
   ],
   "source": [
    "def average(array):\n",
    "    # your code goes here\n",
    "    return sum(set(arr)) / len(set(arr))\n",
    "\n",
    "if __name__ == '__main__':\n",
    "    n = int(input())\n",
    "    arr = list(map(int, input().split()))\n",
    "    result = average(arr)\n",
    "    print(result)"
   ]
  },
  {
   "cell_type": "markdown",
   "id": "d5dc4340-8c8c-439f-bc1a-d20db3ac4e9f",
   "metadata": {},
   "source": [
    "## 50. Symmetric Difference"
   ]
  },
  {
   "cell_type": "code",
   "execution_count": 33,
   "id": "bc382df5-61ef-489d-a49e-6bf61554287a",
   "metadata": {},
   "outputs": [
    {
     "name": "stdin",
     "output_type": "stream",
     "text": [
      " 4\n",
      " 2 4 5 9\n",
      " 4\n",
      " 2 4 11 12\n"
     ]
    },
    {
     "name": "stdout",
     "output_type": "stream",
     "text": [
      "5\n",
      "9\n",
      "11\n",
      "12\n"
     ]
    }
   ],
   "source": [
    "n = int(input())\n",
    "a = set(map(int, input().split()))\n",
    "m = int(input())\n",
    "b = set(map(int, input().split()))\n",
    "\n",
    "diff = list(a.difference(b).union(b.difference(a)))\n",
    "diff.sort()\n",
    "\n",
    "for i in range(len(diff)) :\n",
    "    print(diff[i])"
   ]
  },
  {
   "cell_type": "markdown",
   "id": "d44def53-7e3a-4554-8645-af0fea3251d0",
   "metadata": {},
   "source": [
    "## 51. No Idea!"
   ]
  },
  {
   "cell_type": "code",
   "execution_count": 97,
   "id": "f3eaddbf-b130-40a9-bf2e-15c2fe7810bd",
   "metadata": {},
   "outputs": [
    {
     "name": "stdin",
     "output_type": "stream",
     "text": [
      " 3 2\n",
      " 1 5 3\n",
      " 3 1\n",
      " 5 7\n"
     ]
    },
    {
     "name": "stdout",
     "output_type": "stream",
     "text": [
      "1\n"
     ]
    }
   ],
   "source": [
    "# a,b 는 유일한 값만 있어도 되기때문에 set 사용\n",
    "n, m = map(int, input().split())\n",
    "my_arr = list(map(str, input().split()))\n",
    "a = set(map(str, input().split()))\n",
    "b = set(map(str, input().split()))\n",
    "\n",
    "happy = 0\n",
    "\n",
    "for i in my_arr :\n",
    "    if i in a :\n",
    "        happy += 1\n",
    "    if i in b :\n",
    "        happy -= 1\n",
    "\n",
    "print(happy)"
   ]
  }
 ],
 "metadata": {
  "kernelspec": {
   "display_name": "Python 3 (ipykernel)",
   "language": "python",
   "name": "python3"
  },
  "language_info": {
   "codemirror_mode": {
    "name": "ipython",
    "version": 3
   },
   "file_extension": ".py",
   "mimetype": "text/x-python",
   "name": "python",
   "nbconvert_exporter": "python",
   "pygments_lexer": "ipython3",
   "version": "3.8.10"
  }
 },
 "nbformat": 4,
 "nbformat_minor": 5
}

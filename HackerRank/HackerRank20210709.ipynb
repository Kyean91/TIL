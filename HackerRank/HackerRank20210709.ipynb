{
 "cells": [
  {
   "cell_type": "markdown",
   "id": "631d8da0-ca4c-43a5-a8e3-781c87e52cbe",
   "metadata": {},
   "source": [
    "## 31. String Formatting"
   ]
  },
  {
   "cell_type": "code",
   "execution_count": 77,
   "id": "3e074340-2795-4659-9a6b-a38b8b1926c8",
   "metadata": {},
   "outputs": [
    {
     "name": "stdin",
     "output_type": "stream",
     "text": [
      " 3\n"
     ]
    },
    {
     "name": "stdout",
     "output_type": "stream",
     "text": [
      " 1  1  1  1\n",
      " 2  2  2 10\n",
      " 3  3  3 11\n"
     ]
    }
   ],
   "source": [
    "def print_formatted(number):\n",
    "    if (1<= number <= 99) :\n",
    "        for i in range(1, (number + 1)) :\n",
    "            print(format(i).rjust(len(format(number, 'b'))), format(i, 'o').rjust(len(format(number, 'b')))\n",
    "                  , format(i, 'X').rjust(len(format(number, 'b'))), format(i, 'b').rjust(len(format(number, 'b'))))\n",
    "\n",
    "if __name__ == '__main__':\n",
    "    n = int(input())\n",
    "    print_formatted(n)"
   ]
  },
  {
   "cell_type": "markdown",
   "id": "5ee10aca-377f-4a3a-8692-e9ccada34f15",
   "metadata": {},
   "source": [
    "## 32. Alphabet Rangoli"
   ]
  },
  {
   "cell_type": "code",
   "execution_count": 255,
   "id": "cfa0ad01-5777-47db-9827-c4e0f38fe122",
   "metadata": {},
   "outputs": [
    {
     "name": "stdin",
     "output_type": "stream",
     "text": [
      " 5\n"
     ]
    },
    {
     "name": "stdout",
     "output_type": "stream",
     "text": [
      "--------e--------\n",
      "------e-d-e------\n",
      "----e-d-c-d-e----\n",
      "--e-d-c-b-c-d-e--\n",
      "e-d-c-b-a-b-c-d-e\n",
      "--e-d-c-b-c-d-e--\n",
      "----e-d-c-d-e----\n",
      "------e-d-e------\n",
      "--------e--------\n"
     ]
    }
   ],
   "source": [
    "def print_rangoli(size):\n",
    "    alp = [i for i in 'abcdefghijklmnopqrstuvwxyz']\n",
    "    alp_list = []\n",
    "    if (0 < size < 27) :\n",
    "        alp_list = []\n",
    "        alp_list.append(alp[size - 1])\n",
    "        alp_list.append(alp_list[0] + '-' + alp[size - 2] + '-' + alp_list[0])\n",
    "        for i in range(2, size) :\n",
    "            alp_list.append(alp_list[i - 1][(2 * i) - 2:][::-1] + '-' + alp[abs(i - size) - 1] + '-' + alp_list[i - 1][(2 * i) - 2:])\n",
    "           \n",
    "        for j in range(1, (size + 1)) :\n",
    "            print(('-' * 2 * (size - j)) + alp_list[j - 1] + ('-' * 2 * (size - j)))\n",
    "        for k in range(1, size) :\n",
    "            print('-' * (2 * k) + alp_list[size - k - 1] + '-' * (2 * k))\n",
    "\n",
    "if __name__ == '__main__':\n",
    "    n = int(input())\n",
    "    print_rangoli(n)"
   ]
  },
  {
   "cell_type": "markdown",
   "id": "1f903f04-d822-436c-96c0-89879bb196bf",
   "metadata": {},
   "source": [
    "## 33. Capitalize!"
   ]
  },
  {
   "cell_type": "code",
   "execution_count": 361,
   "id": "6a084aa4-4cd1-4178-b3ea-3ccf6971b473",
   "metadata": {},
   "outputs": [
    {
     "ename": "KeyError",
     "evalue": "'OUTPUT_PATH'",
     "output_type": "error",
     "traceback": [
      "\u001b[1;31m---------------------------------------------------------------------------\u001b[0m",
      "\u001b[1;31mKeyError\u001b[0m                                  Traceback (most recent call last)",
      "\u001b[1;32m~\\AppData\\Local\\Temp/ipykernel_24432/2174417294.py\u001b[0m in \u001b[0;36m<module>\u001b[1;34m\u001b[0m\n\u001b[0;32m     14\u001b[0m \u001b[1;33m\u001b[0m\u001b[0m\n\u001b[0;32m     15\u001b[0m \u001b[1;32mif\u001b[0m \u001b[0m__name__\u001b[0m \u001b[1;33m==\u001b[0m \u001b[1;34m'__main__'\u001b[0m\u001b[1;33m:\u001b[0m\u001b[1;33m\u001b[0m\u001b[1;33m\u001b[0m\u001b[0m\n\u001b[1;32m---> 16\u001b[1;33m     \u001b[0mfptr\u001b[0m \u001b[1;33m=\u001b[0m \u001b[0mopen\u001b[0m\u001b[1;33m(\u001b[0m\u001b[0mos\u001b[0m\u001b[1;33m.\u001b[0m\u001b[0menviron\u001b[0m\u001b[1;33m[\u001b[0m\u001b[1;34m'OUTPUT_PATH'\u001b[0m\u001b[1;33m]\u001b[0m\u001b[1;33m,\u001b[0m \u001b[1;34m'w'\u001b[0m\u001b[1;33m)\u001b[0m\u001b[1;33m\u001b[0m\u001b[1;33m\u001b[0m\u001b[0m\n\u001b[0m\u001b[0;32m     17\u001b[0m \u001b[1;33m\u001b[0m\u001b[0m\n\u001b[0;32m     18\u001b[0m     \u001b[0ms\u001b[0m \u001b[1;33m=\u001b[0m \u001b[0minput\u001b[0m\u001b[1;33m(\u001b[0m\u001b[1;33m)\u001b[0m\u001b[1;33m\u001b[0m\u001b[1;33m\u001b[0m\u001b[0m\n",
      "\u001b[1;32mc:\\users\\kyean\\anaconda3\\envs\\nano\\lib\\os.py\u001b[0m in \u001b[0;36m__getitem__\u001b[1;34m(self, key)\u001b[0m\n\u001b[0;32m    673\u001b[0m         \u001b[1;32mexcept\u001b[0m \u001b[0mKeyError\u001b[0m\u001b[1;33m:\u001b[0m\u001b[1;33m\u001b[0m\u001b[1;33m\u001b[0m\u001b[0m\n\u001b[0;32m    674\u001b[0m             \u001b[1;31m# raise KeyError with the original key value\u001b[0m\u001b[1;33m\u001b[0m\u001b[1;33m\u001b[0m\u001b[1;33m\u001b[0m\u001b[0m\n\u001b[1;32m--> 675\u001b[1;33m             \u001b[1;32mraise\u001b[0m \u001b[0mKeyError\u001b[0m\u001b[1;33m(\u001b[0m\u001b[0mkey\u001b[0m\u001b[1;33m)\u001b[0m \u001b[1;32mfrom\u001b[0m \u001b[1;32mNone\u001b[0m\u001b[1;33m\u001b[0m\u001b[1;33m\u001b[0m\u001b[0m\n\u001b[0m\u001b[0;32m    676\u001b[0m         \u001b[1;32mreturn\u001b[0m \u001b[0mself\u001b[0m\u001b[1;33m.\u001b[0m\u001b[0mdecodevalue\u001b[0m\u001b[1;33m(\u001b[0m\u001b[0mvalue\u001b[0m\u001b[1;33m)\u001b[0m\u001b[1;33m\u001b[0m\u001b[1;33m\u001b[0m\u001b[0m\n\u001b[0;32m    677\u001b[0m \u001b[1;33m\u001b[0m\u001b[0m\n",
      "\u001b[1;31mKeyError\u001b[0m: 'OUTPUT_PATH'"
     ]
    }
   ],
   "source": [
    "#!/bin/python3\n",
    "\n",
    "import math\n",
    "import os\n",
    "import random\n",
    "import re\n",
    "import sys\n",
    "\n",
    "# Complete the solve function below.\n",
    "def solve(s):\n",
    "    for i in s.split():\n",
    "        s = s.replace(i, i.capitalize())\n",
    "    return s\n",
    "\n",
    "if __name__ == '__main__':\n",
    "    fptr = open(os.environ['OUTPUT_PATH'], 'w')\n",
    "\n",
    "    s = input()\n",
    "\n",
    "    result = solve(s)\n",
    "\n",
    "    fptr.write(result + '\\n')\n",
    "\n",
    "    fptr.close()\n"
   ]
  }
 ],
 "metadata": {
  "kernelspec": {
   "display_name": "Python 3 (ipykernel)",
   "language": "python",
   "name": "python3"
  },
  "language_info": {
   "codemirror_mode": {
    "name": "ipython",
    "version": 3
   },
   "file_extension": ".py",
   "mimetype": "text/x-python",
   "name": "python",
   "nbconvert_exporter": "python",
   "pygments_lexer": "ipython3",
   "version": "3.8.10"
  }
 },
 "nbformat": 4,
 "nbformat_minor": 5
}

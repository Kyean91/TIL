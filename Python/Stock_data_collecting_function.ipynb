{
 "cells": [
  {
   "cell_type": "markdown",
   "id": "ec1478d1",
   "metadata": {},
   "source": [
    "라이브러리 불러오기"
   ]
  },
  {
   "cell_type": "code",
   "execution_count": 257,
   "id": "9d80201c",
   "metadata": {},
   "outputs": [],
   "source": [
    "import pandas as pd\n",
    "import numpy as np\n",
    "import datetime\n",
    "import FinanceDataReader as fdr"
   ]
  },
  {
   "cell_type": "markdown",
   "id": "e66320b5",
   "metadata": {},
   "source": [
    "# 종목코드 or 종목명을 입력 받기"
   ]
  },
  {
   "cell_type": "code",
   "execution_count": 425,
   "id": "5228f961",
   "metadata": {},
   "outputs": [
    {
     "name": "stdout",
     "output_type": "stream",
     "text": [
      "종목명을 입력하시려면 1번, 종목코드를 입력하시려면 2번을 입력하세요 : 1\n",
      "종목명을 입력하세요 : ㄴ\n",
      "존재하지 않는 종목명입니다.\n"
     ]
    }
   ],
   "source": [
    "cate = input('종목명을 입력하시려면 1번, 종목코드를 입력하시려면 2번을 입력하세요 : ')\n",
    "stock_name_list = fdr.StockListing('KRX')['Name'].to_list()\n",
    "stock_num_list = fdr.StockListing('KRX')['Symbol'].to_list()\n",
    "\n",
    "if cate == '1' :\n",
    "    stock_name = input('종목명을 입력하세요 : ')\n",
    "    if stock_name in stock_name_list :\n",
    "        stock_num = stock_num_list[stock_name_list.index(stock_name)]\n",
    "    else :\n",
    "        print('존재하지 않는 종목명입니다.')\n",
    "else :\n",
    "    stock_num = input('종목코드을 입력하세요 : ')\n",
    "    if stock_num in stock_num_list :\n",
    "        stock_num = stock_num\n",
    "    else :\n",
    "        print('존재하지 않는 종목코드입니다.')\n"
   ]
  },
  {
   "cell_type": "markdown",
   "id": "5cc4cc37",
   "metadata": {},
   "source": [
    "# 종목코드 or 종목명으로 해당 종목의 주가 Data 불러오기"
   ]
  },
  {
   "cell_type": "code",
   "execution_count": 309,
   "id": "62e56aad",
   "metadata": {},
   "outputs": [],
   "source": [
    "url = f'https://finance.naver.com/item/main.nhn?code={stock_num}'\n",
    "tables = pd.read_html(url, encoding = 'cp949')"
   ]
  },
  {
   "cell_type": "code",
   "execution_count": 310,
   "id": "2a642467",
   "metadata": {},
   "outputs": [],
   "source": [
    "# 전일가격, 시가, 고가, 저가, 거래량, 거래대금 가져오기\n",
    "price = pd.DataFrame(np.array([['전일', '시가', '고가', '저가', '거래량', '거래대금(단위 : 백만)'], \n",
    "          [int(tables[0].iloc[0, 0].split(' ')[2].replace(',', '')),\n",
    "           int(tables[0].iloc[1, 0].split(' ')[2][-int(len(tables[0].iloc[1, 0].split(' ')[2]) / 2):].replace(',', '')),\n",
    "           int(tables[0].iloc[0, 1].split(' ')[2][-int(len(tables[0].iloc[0, 1].split(' ')[2]) / 2):].replace(',', '')),\n",
    "           int(tables[0].iloc[1, 1].split(' ')[2][-int(len(tables[0].iloc[1, 1].split(' ')[2]) / 2):].replace(',', '')),\n",
    "           int(tables[0].iloc[0, 2].split(' ')[2].replace(',', '')),\n",
    "           int(tables[0].iloc[1, 2].split(' ')[2].replace(',', ''))\n",
    "          ]]))"
   ]
  },
  {
   "cell_type": "code",
   "execution_count": 311,
   "id": "f81c1b6b",
   "metadata": {},
   "outputs": [],
   "source": [
    "# 최근분기 재무정보 가져오기\n",
    "re_info = tables[3].iloc[:, [0, -2]].T.reset_index(drop = True)"
   ]
  },
  {
   "cell_type": "code",
   "execution_count": 312,
   "id": "32503804",
   "metadata": {},
   "outputs": [],
   "source": [
    "# 시가정보 가져오기\n",
    "price_info = tables[5].T"
   ]
  },
  {
   "cell_type": "code",
   "execution_count": 313,
   "id": "43be7f1e",
   "metadata": {},
   "outputs": [],
   "source": [
    "# 외국인 정보 가져오기\n",
    "fore = tables[6].T"
   ]
  },
  {
   "cell_type": "code",
   "execution_count": 314,
   "id": "cb8581ec",
   "metadata": {},
   "outputs": [],
   "source": [
    "# 동일 업종 비교 가져오기\n",
    "si_cate = tables[9].T"
   ]
  },
  {
   "cell_type": "code",
   "execution_count": 315,
   "id": "71784268",
   "metadata": {},
   "outputs": [],
   "source": [
    "# 데이터 합치기\n",
    "stock_info = pd.concat([price, re_info, price_info, fore, si_cate], axis = 1)"
   ]
  },
  {
   "cell_type": "markdown",
   "id": "d0fb31b5",
   "metadata": {},
   "source": [
    "# 해당 종목의 주가 Data 저장하기"
   ]
  },
  {
   "cell_type": "code",
   "execution_count": 316,
   "id": "eb05da6d",
   "metadata": {},
   "outputs": [],
   "source": [
    "# 오늘 날짜의 파일 이름 생성\n",
    "file_name = datetime.datetime.today().strftime('%Y_%m_%d') + '_' + stock_num + '.csv'"
   ]
  },
  {
   "cell_type": "code",
   "execution_count": 321,
   "id": "74aebb2a",
   "metadata": {},
   "outputs": [],
   "source": [
    "# csv 파일로 저장\n",
    "stock_info.to_csv(file_name, index = False)"
   ]
  },
  {
   "cell_type": "code",
   "execution_count": 322,
   "id": "874afedf",
   "metadata": {},
   "outputs": [
    {
     "data": {
      "text/html": [
       "<div>\n",
       "<style scoped>\n",
       "    .dataframe tbody tr th:only-of-type {\n",
       "        vertical-align: middle;\n",
       "    }\n",
       "\n",
       "    .dataframe tbody tr th {\n",
       "        vertical-align: top;\n",
       "    }\n",
       "\n",
       "    .dataframe thead th {\n",
       "        text-align: right;\n",
       "    }\n",
       "</style>\n",
       "<table border=\"1\" class=\"dataframe\">\n",
       "  <thead>\n",
       "    <tr style=\"text-align: right;\">\n",
       "      <th></th>\n",
       "      <th>0</th>\n",
       "      <th>1</th>\n",
       "      <th>2</th>\n",
       "      <th>3</th>\n",
       "      <th>4</th>\n",
       "      <th>5</th>\n",
       "      <th>0.1</th>\n",
       "      <th>1.1</th>\n",
       "      <th>2.1</th>\n",
       "      <th>3.1</th>\n",
       "      <th>...</th>\n",
       "      <th>15</th>\n",
       "      <th>0.2</th>\n",
       "      <th>1.2</th>\n",
       "      <th>2.2</th>\n",
       "      <th>3.2</th>\n",
       "      <th>0.3</th>\n",
       "      <th>1.3</th>\n",
       "      <th>2.3</th>\n",
       "      <th>0.4</th>\n",
       "      <th>1.4</th>\n",
       "    </tr>\n",
       "  </thead>\n",
       "  <tbody>\n",
       "    <tr>\n",
       "      <th>0</th>\n",
       "      <td>전일</td>\n",
       "      <td>시가</td>\n",
       "      <td>고가</td>\n",
       "      <td>저가</td>\n",
       "      <td>거래량</td>\n",
       "      <td>거래대금(단위 : 백만)</td>\n",
       "      <td>매출액</td>\n",
       "      <td>영업이익</td>\n",
       "      <td>당기순이익</td>\n",
       "      <td>영업이익률</td>\n",
       "      <td>...</td>\n",
       "      <td>배당성향(%)</td>\n",
       "      <td>시가총액</td>\n",
       "      <td>시가총액순위</td>\n",
       "      <td>상장주식수</td>\n",
       "      <td>액면가l매매단위</td>\n",
       "      <td>외국인한도주식수(A)</td>\n",
       "      <td>외국인보유주식수(B)</td>\n",
       "      <td>외국인소진율(B/A)</td>\n",
       "      <td>동일업종 PER</td>\n",
       "      <td>동일업종 등락률</td>\n",
       "    </tr>\n",
       "    <tr>\n",
       "      <th>1</th>\n",
       "      <td>81900</td>\n",
       "      <td>81900</td>\n",
       "      <td>82100</td>\n",
       "      <td>80800</td>\n",
       "      <td>15013959</td>\n",
       "      <td>1218635</td>\n",
       "      <td>653885.0</td>\n",
       "      <td>93829.0</td>\n",
       "      <td>71417.0</td>\n",
       "      <td>14.35</td>\n",
       "      <td>...</td>\n",
       "      <td>NaN</td>\n",
       "      <td>483조  5,524  억원</td>\n",
       "      <td>코스피 1위</td>\n",
       "      <td>5969782550</td>\n",
       "      <td>100원  l  1주</td>\n",
       "      <td>5969782550</td>\n",
       "      <td>3195921890</td>\n",
       "      <td>53.53%</td>\n",
       "      <td>17.24배</td>\n",
       "      <td>-0.94%</td>\n",
       "    </tr>\n",
       "  </tbody>\n",
       "</table>\n",
       "<p>2 rows × 31 columns</p>\n",
       "</div>"
      ],
      "text/plain": [
       "       0      1      2      3         4              5       0.1      1.1  \\\n",
       "0     전일     시가     고가     저가       거래량  거래대금(단위 : 백만)       매출액     영업이익   \n",
       "1  81900  81900  82100  80800  15013959        1218635  653885.0  93829.0   \n",
       "\n",
       "       2.1    3.1  ...       15              0.2     1.2         2.2  \\\n",
       "0    당기순이익  영업이익률  ...  배당성향(%)             시가총액  시가총액순위       상장주식수   \n",
       "1  71417.0  14.35  ...      NaN  483조  5,524  억원  코스피 1위  5969782550   \n",
       "\n",
       "           3.2          0.3          1.3          2.3       0.4       1.4  \n",
       "0     액면가l매매단위  외국인한도주식수(A)  외국인보유주식수(B)  외국인소진율(B/A)  동일업종 PER  동일업종 등락률  \n",
       "1  100원  l  1주   5969782550   3195921890       53.53%    17.24배    -0.94%  \n",
       "\n",
       "[2 rows x 31 columns]"
      ]
     },
     "execution_count": 322,
     "metadata": {},
     "output_type": "execute_result"
    }
   ],
   "source": [
    "# 잘 저장 되었는지 확인\n",
    "pd.read_csv(file_name)"
   ]
  },
  {
   "cell_type": "markdown",
   "id": "57f8a72d",
   "metadata": {},
   "source": [
    "# 함수화 하기"
   ]
  },
  {
   "cell_type": "code",
   "execution_count": 423,
   "id": "465fa9a6",
   "metadata": {},
   "outputs": [],
   "source": [
    "def get_stock_info() :\n",
    "    # 종목명 or 종목코드로 종목코드 확인\n",
    "    cate = input('종목명을 입력하시려면 1번, 종목코드를 입력하시려면 2번을 입력하세요 : ')\n",
    "    stock_name_list = fdr.StockListing('KRX')['Name'].to_list()\n",
    "    stock_num_list = fdr.StockListing('KRX')['Symbol'].to_list()\n",
    "\n",
    "    if cate == '1' :\n",
    "        stock_name = input('종목명을 입력하세요 : ')\n",
    "        if stock_name in stock_name_list :\n",
    "            stock_num = stock_num_list[stock_name_list.index(stock_name)]\n",
    "        else :\n",
    "            return print('존재하지 않는 종목명입니다.')\n",
    "    else :\n",
    "        stock_num = input('종목코드을 입력하세요 : ')\n",
    "        if stock_num in stock_num_list :\n",
    "            stock_num = stock_num\n",
    "        else :\n",
    "            return print('존재하지 않는 종목코드입니다.')\n",
    "\n",
    "    # 해당 종목의 데이터 가져오기\n",
    "    url = f'https://finance.naver.com/item/main.nhn?code={stock_num}'\n",
    "    tables = pd.read_html(url, encoding = 'cp949')\n",
    "    \n",
    "    # 전일가격, 시가, 고가, 저가, 거래량, 거래대금 가져오기\n",
    "    price = pd.DataFrame(np.array([['전일', '시가', '고가', '저가', '거래량', '거래대금(단위 : 백만)'], \n",
    "          [int(tables[0].iloc[0, 0].split(' ')[2].replace(',', '')),\n",
    "           int(tables[0].iloc[1, 0].split(' ')[2][-int(len(tables[0].iloc[1, 0].split(' ')[2]) / 2):].replace(',', '')),\n",
    "           int(tables[0].iloc[0, 1].split(' ')[2][-int(len(tables[0].iloc[0, 1].split(' ')[2]) / 2):].replace(',', '')),\n",
    "           int(tables[0].iloc[1, 1].split(' ')[2][-int(len(tables[0].iloc[1, 1].split(' ')[2]) / 2):].replace(',', '')),\n",
    "           int(tables[0].iloc[0, 2].split(' ')[2].replace(',', '')),\n",
    "           int(tables[0].iloc[1, 2].split(' ')[2].replace(',', ''))\n",
    "          ]]))\n",
    "    \n",
    "    # 최근분기 재무정보 가져오기\n",
    "    re_info = tables[3].iloc[:, [0, -2]].T.reset_index(drop = True)\n",
    "    \n",
    "    # 시가정보 가져오기\n",
    "    price_info = tables[5].T\n",
    "    \n",
    "    # 외국인 정보 가져오기\n",
    "    fore = tables[6].T\n",
    "    \n",
    "    # 동일 업종 비교 가져오기\n",
    "    si_cate = tables[9].T\n",
    "    \n",
    "    # 데이터 합치기\n",
    "    stock_info = pd.concat([price, re_info, price_info, fore, si_cate], axis = 1)\n",
    "    return stock_info"
   ]
  },
  {
   "cell_type": "code",
   "execution_count": 424,
   "id": "414da20a",
   "metadata": {},
   "outputs": [
    {
     "name": "stdout",
     "output_type": "stream",
     "text": [
      "종목명을 입력하시려면 1번, 종목코드를 입력하시려면 2번을 입력하세요 : 1\n",
      "종목명을 입력하세요 : 삼전\n",
      "존재하지 않는 종목명입니다.\n"
     ]
    }
   ],
   "source": [
    "get_stock_info()"
   ]
  }
 ],
 "metadata": {
  "kernelspec": {
   "display_name": "Python 3",
   "language": "python",
   "name": "python3"
  },
  "language_info": {
   "codemirror_mode": {
    "name": "ipython",
    "version": 3
   },
   "file_extension": ".py",
   "mimetype": "text/x-python",
   "name": "python",
   "nbconvert_exporter": "python",
   "pygments_lexer": "ipython3",
   "version": "3.8.8"
  },
  "toc": {
   "base_numbering": 1,
   "nav_menu": {},
   "number_sections": true,
   "sideBar": true,
   "skip_h1_title": false,
   "title_cell": "Table of Contents",
   "title_sidebar": "Contents",
   "toc_cell": false,
   "toc_position": {},
   "toc_section_display": true,
   "toc_window_display": false
  },
  "varInspector": {
   "cols": {
    "lenName": 16,
    "lenType": 16,
    "lenVar": 40
   },
   "kernels_config": {
    "python": {
     "delete_cmd_postfix": "",
     "delete_cmd_prefix": "del ",
     "library": "var_list.py",
     "varRefreshCmd": "print(var_dic_list())"
    },
    "r": {
     "delete_cmd_postfix": ") ",
     "delete_cmd_prefix": "rm(",
     "library": "var_list.r",
     "varRefreshCmd": "cat(var_dic_list()) "
    }
   },
   "types_to_exclude": [
    "module",
    "function",
    "builtin_function_or_method",
    "instance",
    "_Feature"
   ],
   "window_display": false
  }
 },
 "nbformat": 4,
 "nbformat_minor": 5
}

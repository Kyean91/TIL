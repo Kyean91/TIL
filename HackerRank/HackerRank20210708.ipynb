{
 "cells": [
  {
   "cell_type": "markdown",
   "id": "678d3c07-67aa-4698-a3dc-6fc937561413",
   "metadata": {},
   "source": [
    "## 21. Mutations"
   ]
  },
  {
   "cell_type": "code",
   "execution_count": 7,
   "id": "95b8a06f-e4dc-4c5f-9399-b756caecffb4",
   "metadata": {},
   "outputs": [
    {
     "name": "stdin",
     "output_type": "stream",
     "text": [
      " abracadabra\n",
      " 5 k\n"
     ]
    },
    {
     "name": "stdout",
     "output_type": "stream",
     "text": [
      "abrakdabra\n"
     ]
    }
   ],
   "source": [
    "def mutate_string(string, position, character):\n",
    "    result = string[:position] + character + string[(position + 1):]\n",
    "    return result\n",
    "\n",
    "if __name__ == '__main__':\n",
    "    s = input()\n",
    "    i, c = input().split()\n",
    "    s_new = mutate_string(s, int(i), c)\n",
    "    print(s_new)"
   ]
  },
  {
   "cell_type": "markdown",
   "id": "85b11d4b-64e0-495c-b4fe-2b9f63f69981",
   "metadata": {},
   "source": [
    "## 22. Find a string"
   ]
  },
  {
   "cell_type": "code",
   "execution_count": 15,
   "id": "266a9570-e1fe-4fd6-8edc-82db55f8577f",
   "metadata": {},
   "outputs": [
    {
     "name": "stdin",
     "output_type": "stream",
     "text": [
      " abcdcdc\n",
      " cdc\n"
     ]
    },
    {
     "name": "stdout",
     "output_type": "stream",
     "text": [
      "2\n"
     ]
    }
   ],
   "source": [
    "def count_substring(string, sub_string):\n",
    "    num = 0\n",
    "    if (1 <= len(string) <= 200) :\n",
    "        for i in range(len(string) - len(sub_string) + 1) :\n",
    "            if string[i:(i + len(sub_string))] == sub_string :\n",
    "                num += 1\n",
    "    return num\n",
    "\n",
    "if __name__ == '__main__':\n",
    "    string = input().strip()\n",
    "    sub_string = input().strip()\n",
    "    \n",
    "    count = count_substring(string, sub_string)\n",
    "    print(count)"
   ]
  },
  {
   "cell_type": "markdown",
   "id": "07e5d837-3c2e-409f-927c-bf1fcbd28694",
   "metadata": {},
   "source": [
    "## 23. String Validators"
   ]
  },
  {
   "cell_type": "code",
   "execution_count": 20,
   "id": "87c26ed8-b1bc-4398-b983-ae9f8f50bff5",
   "metadata": {},
   "outputs": [
    {
     "name": "stdin",
     "output_type": "stream",
     "text": [
      " aQ2\n"
     ]
    },
    {
     "name": "stdout",
     "output_type": "stream",
     "text": [
      "True\n",
      "True\n",
      "True\n",
      "True\n",
      "True\n"
     ]
    }
   ],
   "source": [
    "if __name__ == '__main__':\n",
    "    s = input()\n",
    "    if (0 < len(s) < 1000) :\n",
    "        aln = False\n",
    "        alp = False\n",
    "        dig = False\n",
    "        low = False\n",
    "        upp = False\n",
    "        for i in range(len(s)):\n",
    "            aln = aln | s[i].isalnum()\n",
    "            alp = alp | s[i].isalpha()\n",
    "            dig = dig | s[i].isdigit()\n",
    "            low = low | s[i].islower()\n",
    "            upp = upp | s[i].isupper()\n",
    "        print(aln)\n",
    "        print(alp)\n",
    "        print(dig)\n",
    "        print(low)\n",
    "        print(upp)"
   ]
  },
  {
   "cell_type": "markdown",
   "id": "631985b7-d4dd-41b8-8da9-08868acf912e",
   "metadata": {},
   "source": [
    "## 24. Text Alignment"
   ]
  },
  {
   "cell_type": "code",
   "execution_count": 38,
   "id": "0c312794-a93b-4ed3-8142-ce62d29f6e7e",
   "metadata": {},
   "outputs": [
    {
     "name": "stdin",
     "output_type": "stream",
     "text": [
      " 5\n"
     ]
    },
    {
     "name": "stdout",
     "output_type": "stream",
     "text": [
      "    H    \n",
      "   HHH   \n",
      "  HHHHH  \n",
      " HHHHHHH \n",
      "HHHHHHHHH\n",
      "  HHHHH               HHHHH             \n",
      "  HHHHH               HHHHH             \n",
      "  HHHHH               HHHHH             \n",
      "  HHHHH               HHHHH             \n",
      "  HHHHH               HHHHH             \n",
      "  HHHHH               HHHHH             \n",
      "  HHHHHHHHHHHHHHHHHHHHHHHHH   \n",
      "  HHHHHHHHHHHHHHHHHHHHHHHHH   \n",
      "  HHHHHHHHHHHHHHHHHHHHHHHHH   \n",
      "  HHHHH               HHHHH             \n",
      "  HHHHH               HHHHH             \n",
      "  HHHHH               HHHHH             \n",
      "  HHHHH               HHHHH             \n",
      "  HHHHH               HHHHH             \n",
      "  HHHHH               HHHHH             \n",
      "                    HHHHHHHHH \n",
      "                     HHHHHHH  \n",
      "                      HHHHH   \n",
      "                       HHH    \n",
      "                        H     \n"
     ]
    }
   ],
   "source": [
    "#Replace all ______ with rjust, ljust or center. \n",
    "\n",
    "thickness = int(input()) #This must be an odd number\n",
    "c = 'H'\n",
    "\n",
    "#Top Cone\n",
    "for i in range(thickness):\n",
    "    print((c*i).rjust(thickness-1)+c+(c*i).ljust(thickness-1))\n",
    "\n",
    "# #Top Pillars\n",
    "for i in range(thickness+1):\n",
    "    print((c*thickness).center(thickness*2)+(c*thickness).center(thickness*6))\n",
    "\n",
    "# #Middle Belt\n",
    "for i in range((thickness+1)//2):\n",
    "    print((c*thickness*5).center(thickness*6))    \n",
    "\n",
    "# #Bottom Pillars\n",
    "for i in range(thickness+1):\n",
    "    print((c*thickness).center(thickness*2)+(c*thickness).center(thickness*6))    \n",
    "\n",
    "# #Bottom Cone\n",
    "for i in range(thickness):\n",
    "    print(((c*(thickness-i-1)).rjust(thickness)+c+(c*(thickness-i-1)).ljust(thickness)).rjust(thickness*6))"
   ]
  },
  {
   "cell_type": "markdown",
   "id": "7715eb38-75d9-49a9-af48-e2e2929c55e2",
   "metadata": {},
   "source": [
    "## 25. Text Wrap"
   ]
  },
  {
   "cell_type": "code",
   "execution_count": 64,
   "id": "9f4cce1b-fea5-453e-aacf-6f185e480ffe",
   "metadata": {},
   "outputs": [
    {
     "name": "stdin",
     "output_type": "stream",
     "text": [
      " aklsndasdbasbdsbajasbdjsbjadasb\n",
      " 4\n"
     ]
    },
    {
     "name": "stdout",
     "output_type": "stream",
     "text": [
      "akls\n",
      "ndas\n",
      "dbas\n",
      "bdsb\n",
      "ajas\n",
      "bdjs\n",
      "bjad\n",
      "asb\n"
     ]
    }
   ],
   "source": [
    "import textwrap\n",
    "\n",
    "def wrap(string, max_width):\n",
    "    result = textwrap.fill(string, max_width)\n",
    "    return result        \n",
    "\n",
    "if __name__ == '__main__':\n",
    "    string, max_width = input(), int(input())\n",
    "    result = wrap(string, max_width)\n",
    "    print(result)"
   ]
  },
  {
   "cell_type": "markdown",
   "id": "828319ae-5747-43f5-a023-ddc75611a28e",
   "metadata": {},
   "source": [
    "## 26. List"
   ]
  },
  {
   "cell_type": "code",
   "execution_count": 75,
   "id": "6cf544a0-7647-44df-b542-7cd9eb3a521d",
   "metadata": {},
   "outputs": [
    {
     "name": "stdin",
     "output_type": "stream",
     "text": [
      " 12\n",
      " insert 0 5\n"
     ]
    },
    {
     "name": "stdout",
     "output_type": "stream",
     "text": [
      "['insert', '0', '5']\n",
      "[5]\n"
     ]
    },
    {
     "name": "stdin",
     "output_type": "stream",
     "text": [
      " insert 1 10\n"
     ]
    },
    {
     "name": "stdout",
     "output_type": "stream",
     "text": [
      "['insert', '1', '10']\n",
      "[5, 10]\n"
     ]
    },
    {
     "name": "stdin",
     "output_type": "stream",
     "text": [
      " insert 0 6\n"
     ]
    },
    {
     "name": "stdout",
     "output_type": "stream",
     "text": [
      "['insert', '0', '6']\n",
      "[6, 5, 10]\n"
     ]
    },
    {
     "name": "stdin",
     "output_type": "stream",
     "text": [
      " print\n"
     ]
    },
    {
     "name": "stdout",
     "output_type": "stream",
     "text": [
      "['print']\n",
      "[6, 5, 10]\n"
     ]
    },
    {
     "name": "stdin",
     "output_type": "stream",
     "text": [
      " remove 6\n"
     ]
    },
    {
     "name": "stdout",
     "output_type": "stream",
     "text": [
      "['remove', '6']\n",
      "[5, 10]\n"
     ]
    },
    {
     "name": "stdin",
     "output_type": "stream",
     "text": [
      " append 9\n"
     ]
    },
    {
     "name": "stdout",
     "output_type": "stream",
     "text": [
      "['append', '9']\n",
      "[5, 10, 9]\n"
     ]
    },
    {
     "name": "stdin",
     "output_type": "stream",
     "text": [
      " append 1\n"
     ]
    },
    {
     "name": "stdout",
     "output_type": "stream",
     "text": [
      "['append', '1']\n",
      "[5, 10, 9, 1]\n"
     ]
    },
    {
     "name": "stdin",
     "output_type": "stream",
     "text": [
      " sort\n"
     ]
    },
    {
     "name": "stdout",
     "output_type": "stream",
     "text": [
      "['sort']\n",
      "[1, 5, 9, 10]\n"
     ]
    },
    {
     "name": "stdin",
     "output_type": "stream",
     "text": [
      " print\n"
     ]
    },
    {
     "name": "stdout",
     "output_type": "stream",
     "text": [
      "['print']\n",
      "[1, 5, 9, 10]\n"
     ]
    },
    {
     "name": "stdin",
     "output_type": "stream",
     "text": [
      " pop\n"
     ]
    },
    {
     "name": "stdout",
     "output_type": "stream",
     "text": [
      "['pop']\n",
      "[1, 5, 9]\n"
     ]
    },
    {
     "name": "stdin",
     "output_type": "stream",
     "text": [
      " reverse\n"
     ]
    },
    {
     "name": "stdout",
     "output_type": "stream",
     "text": [
      "['reverse']\n",
      "[9, 5, 1]\n"
     ]
    },
    {
     "name": "stdin",
     "output_type": "stream",
     "text": [
      " print\n"
     ]
    },
    {
     "name": "stdout",
     "output_type": "stream",
     "text": [
      "['print']\n",
      "[9, 5, 1]\n"
     ]
    }
   ],
   "source": [
    "if __name__ == '__main__':\n",
    "    N = int(input())\n",
    "    result = []\n",
    "    comm = []\n",
    "    for i in range(N):\n",
    "        comm = input().split(' ')\n",
    "        if comm[0] == 'insert' :\n",
    "            result.insert(int(comm[1]), int(comm[2]))\n",
    "        elif comm[0] == 'print' :\n",
    "            print(result)\n",
    "        elif comm[0] == 'remove' :\n",
    "            result.remove(int(comm[1]))\n",
    "        elif comm[0] == 'append' :\n",
    "            result.append(int(comm[1]))\n",
    "        elif comm[0] == 'sort' :\n",
    "            result.sort()\n",
    "        elif comm[0] == 'pop' :\n",
    "            result.pop()\n",
    "        elif comm[0] == 'reverse' :\n",
    "            result.reverse()"
   ]
  },
  {
   "cell_type": "markdown",
   "id": "7c76b89e-962d-4e21-8b6f-acd726df0ba5",
   "metadata": {},
   "source": [
    "## 27. Tuples"
   ]
  },
  {
   "cell_type": "code",
   "execution_count": 93,
   "id": "4d08ed81-2608-44fc-9604-44f63cc03118",
   "metadata": {},
   "outputs": [
    {
     "name": "stdin",
     "output_type": "stream",
     "text": [
      " 2\n",
      " 1 2\n"
     ]
    },
    {
     "name": "stdout",
     "output_type": "stream",
     "text": [
      "5740354900026072187\n"
     ]
    }
   ],
   "source": [
    "if __name__ == '__main__':\n",
    "    n = int(input())\n",
    "    integer_list = map(int, input().split())\n",
    "    temp = tuple(integer_list)\n",
    "    print(hash(temp))"
   ]
  },
  {
   "cell_type": "markdown",
   "id": "0999d46a-b4fe-424d-9d13-5f6ca917be75",
   "metadata": {},
   "source": [
    "## 28. Triangle Quest"
   ]
  },
  {
   "cell_type": "code",
   "execution_count": 121,
   "id": "ee39cc5f-5e75-4502-8304-1977328dd6b0",
   "metadata": {},
   "outputs": [
    {
     "name": "stdin",
     "output_type": "stream",
     "text": [
      " 5\n"
     ]
    },
    {
     "name": "stdout",
     "output_type": "stream",
     "text": [
      "1\n",
      "22\n",
      "333\n",
      "4444\n"
     ]
    }
   ],
   "source": [
    "for i in range(1, int(input())):\n",
    "    print((10**(i)//9)*i)"
   ]
  },
  {
   "cell_type": "markdown",
   "id": "018848ff-9c2c-4934-b95c-6adf51880e48",
   "metadata": {},
   "source": [
    "## 29. sWAP cASE"
   ]
  },
  {
   "cell_type": "code",
   "execution_count": 154,
   "id": "2e0fcaf7-01f0-4408-aa8a-92f6cd29b465",
   "metadata": {},
   "outputs": [
    {
     "name": "stdin",
     "output_type": "stream",
     "text": [
      " ionoi5II\n"
     ]
    },
    {
     "name": "stdout",
     "output_type": "stream",
     "text": [
      "IONOI5ii\n"
     ]
    }
   ],
   "source": [
    "def swap_case(s):\n",
    "    return s.swapcase()\n",
    "\n",
    "if __name__ == '__main__':\n",
    "    s = input()\n",
    "    result = swap_case(s)\n",
    "    print(result)"
   ]
  },
  {
   "cell_type": "markdown",
   "id": "5457f19d-487f-4974-91c5-e8ca894707d4",
   "metadata": {},
   "source": [
    "## 30. Designer Door Mat"
   ]
  },
  {
   "cell_type": "code",
   "execution_count": 208,
   "id": "57bf57fe-1ebc-47ff-85da-6505a424508b",
   "metadata": {},
   "outputs": [
    {
     "name": "stdin",
     "output_type": "stream",
     "text": [
      " 9 27\n"
     ]
    },
    {
     "name": "stdout",
     "output_type": "stream",
     "text": [
      "------------.|.------------\n",
      "---------.|..|..|.---------\n",
      "------.|..|..|..|..|.------\n",
      "---.|..|..|..|..|..|..|.---\n",
      "----------WELCOME----------\n",
      "---.|..|..|..|..|..|..|.---\n",
      "------.|..|..|..|..|.------\n",
      "---------.|..|..|.---------\n",
      "------------.|.------------\n"
     ]
    }
   ],
   "source": [
    "import math\n",
    "\n",
    "n, m = map(int, input().split())\n",
    "if (n * 3 == m):\n",
    "    for i in range(1, math.ceil(n / 2)):\n",
    "        print(('-' * int((m - (6 * i) + 3) / 2) \n",
    "             + ('.|.' * int((2 * i) - 1))\n",
    "             + ('-' * int((m - (6 * i) + 3) / 2))))\n",
    "    print('-' * int((m - 7) / 2) + 'WELCOME' + '-' * int((m - 7) / 2))\n",
    "    for i in range(math.ceil(n / 2) - 1, 0, -1):\n",
    "        print(('-' * int((m - (6 * i) + 3) / 2) \n",
    "             + ('.|.' * int((2 * i) - 1))\n",
    "             + ('-' * int((m - (6 * i) + 3) / 2))))"
   ]
  }
 ],
 "metadata": {
  "kernelspec": {
   "display_name": "Python 3 (ipykernel)",
   "language": "python",
   "name": "python3"
  },
  "language_info": {
   "codemirror_mode": {
    "name": "ipython",
    "version": 3
   },
   "file_extension": ".py",
   "mimetype": "text/x-python",
   "name": "python",
   "nbconvert_exporter": "python",
   "pygments_lexer": "ipython3",
   "version": "3.8.10"
  }
 },
 "nbformat": 4,
 "nbformat_minor": 5
}

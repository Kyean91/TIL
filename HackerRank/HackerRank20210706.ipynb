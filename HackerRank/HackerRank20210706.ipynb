{
 "cells": [
  {
   "cell_type": "markdown",
   "id": "fb8492c3-9370-46d9-98bd-2fbfa064139b",
   "metadata": {},
   "source": [
    "# HackerRank Codes"
   ]
  },
  {
   "cell_type": "markdown",
   "id": "28a2d686-b094-47c2-910c-7c9489e798b8",
   "metadata": {},
   "source": [
    "## 1. Say \"Hello, world!\" With Python"
   ]
  },
  {
   "cell_type": "code",
   "execution_count": 2,
   "id": "640f0e8f-b4e1-42ba-ae42-870e09daecd5",
   "metadata": {},
   "outputs": [
    {
     "name": "stdout",
     "output_type": "stream",
     "text": [
      "Hello, World!\n"
     ]
    }
   ],
   "source": [
    "print('Hello, World!')"
   ]
  },
  {
   "cell_type": "markdown",
   "id": "314514c4-d745-4406-b352-332404b94712",
   "metadata": {},
   "source": [
    "## 2. Python If-Else"
   ]
  },
  {
   "cell_type": "code",
   "execution_count": 3,
   "id": "793f5a54-2344-43d7-a106-1fab28686476",
   "metadata": {},
   "outputs": [
    {
     "name": "stdin",
     "output_type": "stream",
     "text": [
      " 214\n"
     ]
    },
    {
     "name": "stdout",
     "output_type": "stream",
     "text": [
      "Not Weird\n"
     ]
    }
   ],
   "source": [
    "import math\n",
    "import os\n",
    "import random\n",
    "import re\n",
    "import sys\n",
    "\n",
    "if __name__ == '__main__' : \n",
    "    n = int(input().strip())\n",
    "    if n % 2 == 1 :\n",
    "        print('Weird')\n",
    "    elif (n >= 6) & (n <= 20) :\n",
    "        print('Weird')\n",
    "    else :\n",
    "        print('Not Weird')"
   ]
  },
  {
   "cell_type": "markdown",
   "id": "d404e84e-63bf-4ab8-b63f-118f3d2a0c0c",
   "metadata": {},
   "source": [
    "## 3. Arithmetic Operators"
   ]
  },
  {
   "cell_type": "code",
   "execution_count": 19,
   "id": "84e968fa-28b3-4197-92c6-e4a4556bfe29",
   "metadata": {},
   "outputs": [
    {
     "name": "stdin",
     "output_type": "stream",
     "text": [
      " 5646516\n",
      " 5646531\n"
     ]
    },
    {
     "name": "stdout",
     "output_type": "stream",
     "text": [
      "11293047\n",
      "-15\n",
      "31883227635996\n"
     ]
    }
   ],
   "source": [
    "if __name__ == '__main__' : \n",
    "    a = int(input())\n",
    "    b = int(input())\n",
    "    print(a + b)\n",
    "    print(a - b)\n",
    "    print(a * b)"
   ]
  },
  {
   "cell_type": "markdown",
   "id": "9eb77077-a16a-4f51-81ed-6c4cf8803d83",
   "metadata": {},
   "source": [
    "## 4. Python Division"
   ]
  },
  {
   "cell_type": "code",
   "execution_count": 6,
   "id": "f9429fe3-a16a-4bc7-8838-3426692f5786",
   "metadata": {},
   "outputs": [
    {
     "name": "stdin",
     "output_type": "stream",
     "text": [
      " 1\n",
      " 3\n"
     ]
    },
    {
     "name": "stdout",
     "output_type": "stream",
     "text": [
      "0\n",
      "0.3333333333333333\n"
     ]
    }
   ],
   "source": [
    "if __name__ == '__main__':\n",
    "    a = int(input())\n",
    "    b = int(input())\n",
    "    print(a // b)\n",
    "    print(a / b)"
   ]
  },
  {
   "cell_type": "markdown",
   "id": "9b1154a6-057a-4e35-a704-b6d68d83694f",
   "metadata": {},
   "source": [
    "## 5. Loops"
   ]
  },
  {
   "cell_type": "code",
   "execution_count": 8,
   "id": "54b3c0a9-eda4-4657-b9fa-db54285b69be",
   "metadata": {},
   "outputs": [
    {
     "name": "stdin",
     "output_type": "stream",
     "text": [
      " 2\n"
     ]
    },
    {
     "name": "stdout",
     "output_type": "stream",
     "text": [
      "0\n",
      "1\n"
     ]
    }
   ],
   "source": [
    "if __name__ == '__main__':\n",
    "    n = int(input())\n",
    "    for i in range(n) :\n",
    "        print (i * i)"
   ]
  },
  {
   "cell_type": "markdown",
   "id": "fd14835e-2dd8-4835-9932-bb539293eb95",
   "metadata": {},
   "source": [
    "## 6. Write a Function"
   ]
  },
  {
   "cell_type": "code",
   "execution_count": 9,
   "id": "68f49d71-df77-4aab-b7db-bfe5ab5f6100",
   "metadata": {},
   "outputs": [
    {
     "name": "stdin",
     "output_type": "stream",
     "text": [
      " 19120\n"
     ]
    },
    {
     "data": {
      "text/plain": [
       "True"
      ]
     },
     "execution_count": 9,
     "metadata": {},
     "output_type": "execute_result"
    }
   ],
   "source": [
    "def is_leap(year):\n",
    "    leap = False\n",
    "    \n",
    "    if (year >= 1900) & (year <= 10**5) :\n",
    "        if year % 4 == 0 :\n",
    "            leap = True\n",
    "            if year % 100 == 0 :\n",
    "                leap = False\n",
    "                if year % 400 == 0 :\n",
    "                    leap = True\n",
    "    return leap\n",
    "\n",
    "year = int(input())\n",
    "is_leap(year)"
   ]
  },
  {
   "cell_type": "markdown",
   "id": "40bc15bb-c14b-4d23-9b05-7b2e845d1653",
   "metadata": {},
   "source": [
    "## 7. Print Function"
   ]
  },
  {
   "cell_type": "code",
   "execution_count": 10,
   "id": "1b9df2a2-4e0c-4998-8c1e-ea7a033abb8d",
   "metadata": {},
   "outputs": [
    {
     "name": "stdin",
     "output_type": "stream",
     "text": [
      " 14\n"
     ]
    },
    {
     "name": "stdout",
     "output_type": "stream",
     "text": [
      "1234567891011121314\n"
     ]
    }
   ],
   "source": [
    "if __name__ == '__main__':\n",
    "    n = int(input())\n",
    "    result = ''\n",
    "    if 1 <= n <= 150 :\n",
    "        while(n > 0 ) :\n",
    "            result = str(n) + result\n",
    "            n = n - 1 \n",
    "        print(int(result))"
   ]
  },
  {
   "cell_type": "markdown",
   "id": "5f7bf42b-1414-46f0-bc33-4501887ef05d",
   "metadata": {},
   "source": [
    "## 8. Min and Max"
   ]
  },
  {
   "cell_type": "code",
   "execution_count": 13,
   "id": "ed24ae4c-17ec-4611-8916-d9f868567d8b",
   "metadata": {},
   "outputs": [
    {
     "name": "stdin",
     "output_type": "stream",
     "text": [
      " 2 2\n",
      " 1 2\n",
      " 3 4\n"
     ]
    },
    {
     "name": "stdout",
     "output_type": "stream",
     "text": [
      "3\n"
     ]
    }
   ],
   "source": [
    "import numpy as np\n",
    "\n",
    "dim = input()\n",
    "r_num = int(dim.split(' ')[0])\n",
    "c_num = int(dim.split(' ')[1])\n",
    "temp = np.zeros((r_num, c_num))\n",
    "for i in range(r_num) :\n",
    "    val = input()\n",
    "    for c in range(c_num) : \n",
    "        temp[i, c] = int(val.split(' ')[c])\n",
    "print(np.int0(np.max(np.min(temp, axis = 1))))"
   ]
  },
  {
   "cell_type": "markdown",
   "id": "a9ff9a3a-f9a9-4ff0-868e-94867af902a3",
   "metadata": {},
   "source": [
    "## 9. Sum and Prod"
   ]
  },
  {
   "cell_type": "code",
   "execution_count": 15,
   "id": "309e800b-3b2d-4a9e-a3c4-86bcf9eaac13",
   "metadata": {},
   "outputs": [
    {
     "name": "stdin",
     "output_type": "stream",
     "text": [
      " 3 3\n",
      " 1 1 1\n",
      " 1 1 1\n",
      " 1 1 1\n"
     ]
    },
    {
     "name": "stdout",
     "output_type": "stream",
     "text": [
      "27\n"
     ]
    }
   ],
   "source": [
    "import numpy as np\n",
    "\n",
    "dim = input()\n",
    "r_num = int(dim.split(' ')[0])\n",
    "c_num = int(dim.split(' ')[1])\n",
    "temp = np.zeros((r_num, c_num))\n",
    "for i in range(r_num) :\n",
    "    val = input()\n",
    "    for c in range(c_num) : \n",
    "        temp[i, c] = int(val.split(' ')[c])\n",
    "print(np.int0(np.product(np.sum(temp, axis = 0))))"
   ]
  },
  {
   "cell_type": "markdown",
   "id": "54f6a702-d219-463f-90ca-94c8512f8fad",
   "metadata": {},
   "source": [
    "## 10. Mean, Var, and Std"
   ]
  },
  {
   "cell_type": "code",
   "execution_count": 20,
   "id": "b72cfa64-f4de-4a0d-a8d3-728f5dbb483d",
   "metadata": {},
   "outputs": [
    {
     "name": "stdin",
     "output_type": "stream",
     "text": [
      " 2 2\n",
      " 1 2\n",
      " 3 3\n"
     ]
    },
    {
     "name": "stdout",
     "output_type": "stream",
     "text": [
      "[1.5 3. ]\n",
      "[1.   0.25]\n",
      "0.82915619759\n"
     ]
    }
   ],
   "source": [
    "import numpy as np\n",
    "\n",
    "dim = input()\n",
    "r_num = int(dim.split(' ')[0])\n",
    "c_num = int(dim.split(' ')[1])\n",
    "temp = np.zeros((r_num, c_num))\n",
    "for i in range(r_num) :\n",
    "    val = input()\n",
    "    for c in range(c_num) : \n",
    "        temp[i, c] = int(val.split(' ')[c])\n",
    "print(np.mean(temp, axis = 1))\n",
    "print(np.var(temp, axis = 0))\n",
    "print(round(np.std(temp, axis = None), 11))"
   ]
  },
  {
   "cell_type": "markdown",
   "id": "725ad3c9-815c-4b65-af78-50201886115e",
   "metadata": {},
   "source": [
    "## 11. Dot and Cross"
   ]
  },
  {
   "cell_type": "code",
   "execution_count": 39,
   "id": "fc9dec87-cf04-4860-98ef-034961691743",
   "metadata": {},
   "outputs": [
    {
     "name": "stdin",
     "output_type": "stream",
     "text": [
      " 2\n",
      " 1 2\n",
      " 3 4\n",
      " 1 2\n",
      " 3 4\n"
     ]
    },
    {
     "name": "stdout",
     "output_type": "stream",
     "text": [
      "[[ 7 10]\n",
      " [15 22]]\n"
     ]
    }
   ],
   "source": [
    "import numpy as np\n",
    "\n",
    "dim = int(input())\n",
    "temp1 = np.zeros((dim, dim))\n",
    "temp2 = np.zeros((dim, dim))\n",
    "\n",
    "for n in range(2) :     \n",
    "    if n == 0 :\n",
    "        for i in range(dim) :\n",
    "            val = input()\n",
    "            for c in range(dim) : \n",
    "                temp1[i, c] = int(val.split(' ')[c])\n",
    "    else : \n",
    "        for i in range(dim) :\n",
    "            val = input()\n",
    "            for c in range(dim) : \n",
    "                temp2[i, c] = int(val.split(' ')[c])\n",
    "print(np.int0(np.dot(temp1, temp2)))"
   ]
  },
  {
   "cell_type": "markdown",
   "id": "577aa849-d2a5-4805-9f8d-939cb1119b69",
   "metadata": {},
   "source": [
    "## 12. Inner and Outer"
   ]
  },
  {
   "cell_type": "code",
   "execution_count": 52,
   "id": "d83d6d00-516e-408d-90b7-bf110a0fb3ac",
   "metadata": {},
   "outputs": [
    {
     "name": "stdin",
     "output_type": "stream",
     "text": [
      " 0 1\n",
      " 2 3\n"
     ]
    },
    {
     "name": "stdout",
     "output_type": "stream",
     "text": [
      "3\n",
      "[[0 0]\n",
      " [2 3]]\n"
     ]
    }
   ],
   "source": [
    "import numpy as np\n",
    "\n",
    "ip1 = input()\n",
    "ip2 = input()\n",
    "length = len(ip1.split(' '))\n",
    "temp1 = np.zeros(length, dtype = int)\n",
    "temp2 = np.zeros(length, dtype = int)\n",
    "length = len(temp1)\n",
    "              \n",
    "for l in range(length):\n",
    "             \n",
    "    temp1[l] = int(ip1.split(' ')[l])\n",
    "    temp2[l] = int(ip2.split(' ')[l])\n",
    "\n",
    "print(np.inner(temp1, temp2))\n",
    "print(np.outer(temp1, temp2))"
   ]
  },
  {
   "cell_type": "markdown",
   "id": "5d1c261b-6b79-4938-8853-eeeb03ada77f",
   "metadata": {},
   "source": [
    "## 13. Polynomials"
   ]
  },
  {
   "cell_type": "code",
   "execution_count": 56,
   "id": "9e015fdd-fe39-48ae-afab-084c276bd44f",
   "metadata": {},
   "outputs": [
    {
     "name": "stdin",
     "output_type": "stream",
     "text": [
      " 1.1 2 3\n",
      " 0\n"
     ]
    },
    {
     "name": "stdout",
     "output_type": "stream",
     "text": [
      "3.0\n"
     ]
    }
   ],
   "source": [
    "import numpy as np\n",
    "\n",
    "ip1 = input()\n",
    "ip2 = input()\n",
    "length = len(ip1.split(' '))\n",
    "temp1 = np.zeros(length)\n",
    "temp2 = int(ip2)\n",
    "length = len(temp1)\n",
    "              \n",
    "for l in range(length):\n",
    "    temp1[l] = float(ip1.split(' ')[l])\n",
    "\n",
    "print(np.polyval(temp1, temp2))"
   ]
  },
  {
   "cell_type": "markdown",
   "id": "49b27d6e-f6ce-4e0b-ac9d-e98ecc87fb05",
   "metadata": {},
   "source": [
    "## 14. Linear Algebra"
   ]
  },
  {
   "cell_type": "code",
   "execution_count": 70,
   "id": "5fdf17c8-d4f8-4333-8b45-d3ef6d0342c6",
   "metadata": {},
   "outputs": [
    {
     "name": "stdin",
     "output_type": "stream",
     "text": [
      " 2\n",
      " 1.1 1.1\n",
      " 1.1 1.2\n"
     ]
    },
    {
     "name": "stdout",
     "output_type": "stream",
     "text": [
      "0.11\n"
     ]
    }
   ],
   "source": [
    "import numpy as np\n",
    "\n",
    "dim = int(input())\n",
    "temp = [i for i in range(dim)]\n",
    "val = [i for i in range(dim)]\n",
    "\n",
    "for i in range(dim) :\n",
    "    val[i] = [float(j) for j in input().split(' ')]\n",
    "\n",
    "print(round(np.linalg.det(val), 2))"
   ]
  }
 ],
 "metadata": {
  "kernelspec": {
   "display_name": "Python 3",
   "language": "python",
   "name": "python3"
  },
  "language_info": {
   "codemirror_mode": {
    "name": "ipython",
    "version": 3
   },
   "file_extension": ".py",
   "mimetype": "text/x-python",
   "name": "python",
   "nbconvert_exporter": "python",
   "pygments_lexer": "ipython3",
   "version": "3.8.8"
  }
 },
 "nbformat": 4,
 "nbformat_minor": 5
}

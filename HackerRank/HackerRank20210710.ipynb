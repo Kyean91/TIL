{
 "cells": [
  {
   "cell_type": "markdown",
   "id": "0a6c6f20-62c2-44f5-97eb-c955f6cc2341",
   "metadata": {},
   "source": [
    "## 34. The Minion Game"
   ]
  },
  {
   "cell_type": "code",
   "execution_count": 9,
   "id": "71fe262e-8697-43bc-a486-33d4ae6fa9bd",
   "metadata": {},
   "outputs": [
    {
     "name": "stdin",
     "output_type": "stream",
     "text": [
      " BANANA\n"
     ]
    },
    {
     "name": "stdout",
     "output_type": "stream",
     "text": [
      "Stuart 12\n"
     ]
    }
   ],
   "source": [
    "def minion_game(string):\n",
    "    # your code goes here\n",
    "    vowel = 'AEIOU'\n",
    "    stuart_score = 0\n",
    "    kevin_score = 0\n",
    "    \n",
    "    if (0 < len(string) <= (10 ** 6)) : \n",
    "        for i in range(len(string)) :\n",
    "            if string[i] in vowel :\n",
    "                kevin_score += len(string) - i\n",
    "            else :\n",
    "                stuart_score += len(string) - i\n",
    "\n",
    "        if (stuart_score > kevin_score) :\n",
    "            print('Stuart', stuart_score)\n",
    "        elif (stuart_score < kevin_score) :\n",
    "            print('Kevin', kevin_score)\n",
    "        else :\n",
    "            print('Draw')\n",
    "\n",
    "if __name__ == '__main__':\n",
    "    s = input()\n",
    "    minion_game(s)"
   ]
  },
  {
   "cell_type": "markdown",
   "id": "702fed27-10a8-4755-a65e-80306a36729c",
   "metadata": {},
   "source": [
    "## 35. Merge The Tools!"
   ]
  },
  {
   "cell_type": "code",
   "execution_count": 79,
   "id": "811b78b8-bc50-414c-ade6-49588de67e6e",
   "metadata": {},
   "outputs": [
    {
     "name": "stdin",
     "output_type": "stream",
     "text": [
      " AABCAAADA\n",
      " 3\n"
     ]
    },
    {
     "name": "stdout",
     "output_type": "stream",
     "text": [
      "AB\n",
      "CA\n",
      "AD\n"
     ]
    }
   ],
   "source": [
    "def merge_the_tools(string, k):\n",
    "    # your code goes here\n",
    "    s = [i for i in string]\n",
    "    n = len(s)\n",
    "\n",
    "    if (1 <= n <= (10 ** 4)) & (1 <= k <= n):\n",
    "        for i in range(int(n / k)) :\n",
    "            temp = []\n",
    "            result = ''\n",
    "            for j in s[i * k: k * (i + 1)] :\n",
    "                if j not in temp :\n",
    "                    temp.append(j)\n",
    "            for l in range(len(temp)):\n",
    "                result += temp[l]\n",
    "            print(result)\n",
    "            \n",
    "if __name__ == '__main__':\n",
    "    string, k = input(), int(input())\n",
    "    merge_the_tools(string, k)"
   ]
  },
  {
   "cell_type": "markdown",
   "id": "14a484b3-2c5b-49fe-bff9-d0f87f245046",
   "metadata": {},
   "source": [
    "## 36. itertools.product()"
   ]
  },
  {
   "cell_type": "code",
   "execution_count": 125,
   "id": "fe6ffa76-da04-4606-97bc-913b0fd9a5c4",
   "metadata": {
    "tags": []
   },
   "outputs": [
    {
     "name": "stdin",
     "output_type": "stream",
     "text": [
      " 1 2\n",
      " 3 4\n"
     ]
    },
    {
     "name": "stdout",
     "output_type": "stream",
     "text": [
      "(1, 3) (1, 4) (2, 3) (2, 4)\n"
     ]
    }
   ],
   "source": [
    "from itertools import product\n",
    "\n",
    "s_a = input().split(' ')\n",
    "s_b = input().split(' ')\n",
    "a = []\n",
    "b = []\n",
    "\n",
    "for i in range(len(s_a)) :\n",
    "    a.append(int(s_a[i]))\n",
    "for j in range(len(s_b)) :\n",
    "    b.append(int(s_b[j]))\n",
    "result = product(a, b)\n",
    "\n",
    "print(*result)"
   ]
  }
 ],
 "metadata": {
  "kernelspec": {
   "display_name": "Python 3 (ipykernel)",
   "language": "python",
   "name": "python3"
  },
  "language_info": {
   "codemirror_mode": {
    "name": "ipython",
    "version": 3
   },
   "file_extension": ".py",
   "mimetype": "text/x-python",
   "name": "python",
   "nbconvert_exporter": "python",
   "pygments_lexer": "ipython3",
   "version": "3.8.10"
  }
 },
 "nbformat": 4,
 "nbformat_minor": 5
}

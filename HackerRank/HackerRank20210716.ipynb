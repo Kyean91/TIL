{
 "cells": [
  {
   "cell_type": "markdown",
   "id": "621940c4-2368-40fe-a52a-f01e67048e2c",
   "metadata": {},
   "source": [
    "## 52. Calendar Module"
   ]
  },
  {
   "cell_type": "code",
   "execution_count": 24,
   "id": "8c9edaeb-2e21-4dc3-9a67-54fb760f00a8",
   "metadata": {},
   "outputs": [
    {
     "name": "stdin",
     "output_type": "stream",
     "text": [
      " 07 16 2021\n"
     ]
    },
    {
     "name": "stdout",
     "output_type": "stream",
     "text": [
      "FRIDAY\n"
     ]
    }
   ],
   "source": [
    "import calendar\n",
    "mm, dd, yyyy = map(int, input().split())\n",
    "print(calendar.day_name[calendar.weekday(yyyy, mm, dd)].upper())"
   ]
  },
  {
   "cell_type": "markdown",
   "id": "f3674470-8aca-4f08-b6c8-7e62c5acd900",
   "metadata": {},
   "source": [
    "## 53. Time Delta"
   ]
  },
  {
   "cell_type": "code",
   "execution_count": 33,
   "id": "914265d2-fcbf-4228-ba2c-55cb791a5701",
   "metadata": {},
   "outputs": [
    {
     "name": "stdin",
     "output_type": "stream",
     "text": [
      " 2\n",
      " Sun 10 May 2015 13:54:36 -0700\n",
      " Sun 10 May 2015 13:54:36 -0000\n"
     ]
    },
    {
     "name": "stdout",
     "output_type": "stream",
     "text": [
      "25200\n"
     ]
    },
    {
     "name": "stdin",
     "output_type": "stream",
     "text": [
      " Sat 02 May 2015 19:54:36 +0530\n",
      " Fri 01 May 2015 13:54:36 -0000\n"
     ]
    },
    {
     "name": "stdout",
     "output_type": "stream",
     "text": [
      "88200\n"
     ]
    }
   ],
   "source": [
    "#!/bin/python3\n",
    "\n",
    "import math\n",
    "import os\n",
    "import random\n",
    "import re\n",
    "import sys\n",
    "\n",
    "# Complete the time_delta function below.\n",
    "import datetime\n",
    "\n",
    "def time_delta(t1, t2):\n",
    "    t_1 = datetime.datetime.strptime(t1, '%a %d %b %Y %H:%M:%S %z')\n",
    "    t_2 = datetime.datetime.strptime(t2, '%a %d %b %Y %H:%M:%S %z')\n",
    "    \n",
    "    return str(int(abs(t_1 - t_2).total_seconds()))\n",
    "\n",
    "if __name__ == '__main__':\n",
    "\n",
    "    t = int(input())\n",
    "\n",
    "    for t_itr in range(t):\n",
    "        t1 = input()\n",
    "\n",
    "        t2 = input()\n",
    "\n",
    "        delta = time_delta(t1, t2)\n",
    "        \n",
    "        print(delta)"
   ]
  },
  {
   "cell_type": "markdown",
   "id": "3317a9d6-10af-47f8-a370-4ad0170aa2a3",
   "metadata": {},
   "source": [
    "## 54. Array Mathematics"
   ]
  },
  {
   "cell_type": "code",
   "execution_count": 56,
   "id": "763ce428-595b-4be4-8c07-f78e0111871a",
   "metadata": {},
   "outputs": [
    {
     "name": "stdin",
     "output_type": "stream",
     "text": [
      " 2 4\n",
      " 1 2 3 4\n",
      " 1 2 3 4\n",
      " 5 6 7 7\n",
      " 5 6 7 7\n"
     ]
    },
    {
     "name": "stdout",
     "output_type": "stream",
     "text": [
      "[[ 6  8 10 11]\n",
      " [ 6  8 10 11]]\n",
      "[[-4 -4 -4 -3]\n",
      " [-4 -4 -4 -3]]\n",
      "[[ 5 12 21 28]\n",
      " [ 5 12 21 28]]\n",
      "[[0 0 0 0]\n",
      " [0 0 0 0]]\n",
      "[[1 2 3 4]\n",
      " [1 2 3 4]]\n",
      "[[    1    64  2187 16384]\n",
      " [    1    64  2187 16384]]\n"
     ]
    }
   ],
   "source": [
    "import numpy as np\n",
    "\n",
    "n, m = map(int, input().split())\n",
    "a = np.array(np.zeros([n, m]), int)\n",
    "b = np.array(np.zeros([n, m]), int)\n",
    "\n",
    "for i in range(n) :\n",
    "    a[i] = list(map(int, input().split()))\n",
    "    \n",
    "for j in range(n) :\n",
    "    b[j] = list(map(int, input().split()))\n",
    "    \n",
    "print(np.add(a, b))\n",
    "print(np.subtract(a, b))\n",
    "print(np.multiply(a, b))\n",
    "print(np.floor_divide(a, b))\n",
    "print(np.mod(a, b))\n",
    "print(np.power(a, b))"
   ]
  }
 ],
 "metadata": {
  "kernelspec": {
   "display_name": "Python 3 (ipykernel)",
   "language": "python",
   "name": "python3"
  },
  "language_info": {
   "codemirror_mode": {
    "name": "ipython",
    "version": 3
   },
   "file_extension": ".py",
   "mimetype": "text/x-python",
   "name": "python",
   "nbconvert_exporter": "python",
   "pygments_lexer": "ipython3",
   "version": "3.8.10"
  }
 },
 "nbformat": 4,
 "nbformat_minor": 5
}

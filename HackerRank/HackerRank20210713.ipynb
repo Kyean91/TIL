{
 "cells": [
  {
   "cell_type": "markdown",
   "id": "f6535b41-5cb8-4ff5-9d4e-bc28e629cb53",
   "metadata": {},
   "source": [
    "## 43. Collections.deque()"
   ]
  },
  {
   "cell_type": "code",
   "execution_count": 10,
   "id": "5757d0cb-3f9b-4164-8b84-f919f2dd92f4",
   "metadata": {},
   "outputs": [
    {
     "name": "stdin",
     "output_type": "stream",
     "text": [
      " 6\n",
      " append 1\n",
      " append 2\n",
      " append 3\n",
      " appendleft 4\n",
      " pop\n",
      " popleft\n"
     ]
    },
    {
     "name": "stdout",
     "output_type": "stream",
     "text": [
      "1 2\n"
     ]
    }
   ],
   "source": [
    "from collections import deque\n",
    "\n",
    "result = deque()\n",
    "n = int(input())\n",
    "\n",
    "for i in range(n) :\n",
    "    inp = input()\n",
    "    if ' ' in inp :\n",
    "        met, val = inp.split(' ')\n",
    "    else :\n",
    "        met = inp\n",
    "        \n",
    "    if met == 'append' :\n",
    "        result.append(val)\n",
    "    elif met == 'pop' :\n",
    "        result.pop()\n",
    "    elif met == 'popleft' :\n",
    "        result.popleft()\n",
    "    elif met == 'appendleft' :\n",
    "        result.appendleft(val)\n",
    "print(*result)"
   ]
  },
  {
   "cell_type": "markdown",
   "id": "455df548-e731-42cb-8f80-e0ecaf5ad698",
   "metadata": {},
   "source": [
    "## 44. Piling Up!\n",
    "\n"
   ]
  },
  {
   "cell_type": "code",
   "execution_count": 94,
   "id": "b95560e6-24a5-4dd8-9f4e-d60847734a3d",
   "metadata": {},
   "outputs": [
    {
     "name": "stdin",
     "output_type": "stream",
     "text": [
      " 2\n",
      " 6\n",
      " 4 3 2 1 3 4\n"
     ]
    },
    {
     "name": "stdout",
     "output_type": "stream",
     "text": [
      "Yes\n"
     ]
    },
    {
     "name": "stdin",
     "output_type": "stream",
     "text": [
      " 3\n",
      " 1 3 2\n"
     ]
    },
    {
     "name": "stdout",
     "output_type": "stream",
     "text": [
      "No\n"
     ]
    }
   ],
   "source": [
    "from collections import deque\n",
    "\n",
    "test = int(input())\n",
    "\n",
    "for i in range(test) :\n",
    "    n = int(input())\n",
    "    temp = deque(map(int, input().split(' ')))\n",
    "        \n",
    "    before = max(temp[0], temp[-1])\n",
    "    \n",
    "    if temp[0] >= temp[-1] :\n",
    "        temp.popleft()\n",
    "    else :\n",
    "        temp.pop()\n",
    "\n",
    "    while(len(temp) > 0) :\n",
    "        if before >= max(temp[0], temp[-1]) :\n",
    "            before = max(temp[0], temp[-1])\n",
    "            if temp[0] >= temp[-1] :\n",
    "                temp.popleft()\n",
    "            else :\n",
    "                temp.pop()\n",
    "        else :\n",
    "            break\n",
    "            \n",
    "    if len(temp) == 0 :\n",
    "        print('Yes')\n",
    "    else :\n",
    "        print('No')"
   ]
  },
  {
   "cell_type": "markdown",
   "id": "95132209-86e8-42b5-a8ea-155382796822",
   "metadata": {},
   "source": [
    "## 45. Company Logo"
   ]
  },
  {
   "cell_type": "code",
   "execution_count": 154,
   "id": "fdc6a4ca-524a-4afb-a52e-b7ed44b59e63",
   "metadata": {},
   "outputs": [
    {
     "name": "stdin",
     "output_type": "stream",
     "text": [
      " aabbbccde\n"
     ]
    },
    {
     "name": "stdout",
     "output_type": "stream",
     "text": [
      "b 3\n",
      "a 2\n",
      "c 2\n"
     ]
    }
   ],
   "source": [
    "import math\n",
    "import os\n",
    "import random\n",
    "import re\n",
    "import sys\n",
    "from collections import OrderedDict\n",
    "\n",
    "if __name__ == '__main__':\n",
    "    dic = {}\n",
    "    s = input()\n",
    "    for i in range(len(s)) :\n",
    "        if s[i] in dic.keys() :\n",
    "            dic[f'{s[i]}'] += 1\n",
    "        else :\n",
    "            dic[f'{s[i]}'] = 1\n",
    "    dic = sorted(dic.items(), key = lambda x : (x[1] * -1, x[0]))\n",
    "    \n",
    "    for j in range(3) :\n",
    "        print(*dic[j])"
   ]
  }
 ],
 "metadata": {
  "kernelspec": {
   "display_name": "Python 3 (ipykernel)",
   "language": "python",
   "name": "python3"
  },
  "language_info": {
   "codemirror_mode": {
    "name": "ipython",
    "version": 3
   },
   "file_extension": ".py",
   "mimetype": "text/x-python",
   "name": "python",
   "nbconvert_exporter": "python",
   "pygments_lexer": "ipython3",
   "version": "3.8.10"
  }
 },
 "nbformat": 4,
 "nbformat_minor": 5
}

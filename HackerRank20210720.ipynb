{
 "cells": [
  {
   "cell_type": "markdown",
   "id": "a3a6db7a-ba43-4527-92de-aea9b61752e7",
   "metadata": {},
   "source": [
    "## 64. Set .union() Operation\n",
    "\n"
   ]
  },
  {
   "cell_type": "code",
   "execution_count": 2,
   "id": "68cee692-1a78-409e-b726-8390af02eaeb",
   "metadata": {},
   "outputs": [
    {
     "name": "stdin",
     "output_type": "stream",
     "text": [
      " 9\n",
      " 1 2 3 4 5 6 7 8 9\n",
      " 9\n",
      " 10 1 2 3 11 21 55 6 8\n"
     ]
    },
    {
     "name": "stdout",
     "output_type": "stream",
     "text": [
      "13\n"
     ]
    }
   ],
   "source": [
    "n = int(input())\n",
    "num_eng = set(map(int, input().split()))\n",
    "b = int(input())\n",
    "num_fra = set(map(int, input().split()))\n",
    "\n",
    "print(len(num_eng.union(num_fra)))"
   ]
  },
  {
   "cell_type": "markdown",
   "id": "4672a8e2-9a87-4348-8857-a75f5014f5c2",
   "metadata": {},
   "source": [
    "## 65. Set .intersection() Operation"
   ]
  },
  {
   "cell_type": "code",
   "execution_count": 3,
   "id": "68c3fc38-7557-4684-a296-c0fe2729fcf9",
   "metadata": {},
   "outputs": [
    {
     "name": "stdin",
     "output_type": "stream",
     "text": [
      " 9\n",
      " 1 2 3 4 5 6 7 8 9\n",
      " 9\n",
      " 10 1 2 3 11 21 55 6 8\n"
     ]
    },
    {
     "name": "stdout",
     "output_type": "stream",
     "text": [
      "5\n"
     ]
    }
   ],
   "source": [
    "n = int(input())\n",
    "num_eng = set(map(int, input().split()))\n",
    "b = int(input())\n",
    "num_fra = set(map(int, input().split()))\n",
    "\n",
    "print(len(num_eng.intersection(num_fra)))"
   ]
  },
  {
   "cell_type": "markdown",
   "id": "f7252636-cf7a-4a12-b014-30575cabab84",
   "metadata": {},
   "source": [
    "## 66. Set .difference() Operation"
   ]
  },
  {
   "cell_type": "code",
   "execution_count": 4,
   "id": "775a0f23-f9e3-4804-9405-9429dfd3803d",
   "metadata": {},
   "outputs": [
    {
     "name": "stdin",
     "output_type": "stream",
     "text": [
      " 9\n",
      " 1 2 3 4 5 6 7 8 9\n",
      " 9\n",
      " 10 1 2 3 11 21 55 6 8\n"
     ]
    },
    {
     "name": "stdout",
     "output_type": "stream",
     "text": [
      "4\n"
     ]
    }
   ],
   "source": [
    "n = int(input())\n",
    "num_eng = set(map(int, input().split()))\n",
    "b = int(input())\n",
    "num_fra = set(map(int, input().split()))\n",
    "\n",
    "print(len(num_eng.difference(num_fra)))"
   ]
  }
 ],
 "metadata": {
  "kernelspec": {
   "display_name": "Python 3 (ipykernel)",
   "language": "python",
   "name": "python3"
  },
  "language_info": {
   "codemirror_mode": {
    "name": "ipython",
    "version": 3
   },
   "file_extension": ".py",
   "mimetype": "text/x-python",
   "name": "python",
   "nbconvert_exporter": "python",
   "pygments_lexer": "ipython3",
   "version": "3.8.10"
  }
 },
 "nbformat": 4,
 "nbformat_minor": 5
}

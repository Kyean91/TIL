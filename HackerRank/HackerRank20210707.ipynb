{
 "cells": [
  {
   "cell_type": "markdown",
   "id": "a0aabee8-7229-495a-8066-7bc82da9fb3f",
   "metadata": {},
   "source": [
    "## 15. List Comprehensions"
   ]
  },
  {
   "cell_type": "code",
   "execution_count": 46,
   "id": "6627c18c-a42e-4896-8029-d057a6c20cf6",
   "metadata": {},
   "outputs": [
    {
     "name": "stdin",
     "output_type": "stream",
     "text": [
      " 1\n",
      " 1\n",
      " 1\n",
      " 1\n"
     ]
    },
    {
     "name": "stdout",
     "output_type": "stream",
     "text": [
      "[[0, 0, 0], [0, 1, 1], [1, 0, 1], [1, 1, 0], [1, 1, 1]]\n"
     ]
    }
   ],
   "source": [
    "if __name__ == '__main__':\n",
    "    x = int(input())\n",
    "    y = int(input())\n",
    "    z = int(input())\n",
    "    n = int(input())\n",
    "    temp = [[i, j, k] for i in range(x + 1) for j in range(y + 1) for k in range(z + 1) if (i + j + k) != n]\n",
    "    print(temp)"
   ]
  },
  {
   "cell_type": "markdown",
   "id": "2555ea74-4f75-4589-acc6-0f47e44caba6",
   "metadata": {},
   "source": [
    "## 16. Find the Runner-Up Score!"
   ]
  },
  {
   "cell_type": "code",
   "execution_count": 6,
   "id": "ee33dbeb-8896-4431-ac20-b43d5daceaff",
   "metadata": {},
   "outputs": [
    {
     "name": "stdin",
     "output_type": "stream",
     "text": [
      " 5\n",
      " 2 3 6 6 5\n"
     ]
    },
    {
     "name": "stdout",
     "output_type": "stream",
     "text": [
      "5\n"
     ]
    }
   ],
   "source": [
    "if __name__ == '__main__':\n",
    "    n = int(input())\n",
    "    arr = list(map(int, input().split()))\n",
    "    max_v = max(arr)\n",
    "    for i in range(n) :\n",
    "        if arr[i] == max_v :\n",
    "            arr[i] = -100\n",
    "    print(max(arr))"
   ]
  },
  {
   "cell_type": "markdown",
   "id": "178fda6e-ed01-42e0-935e-852974243e8d",
   "metadata": {},
   "source": [
    "## 17. Nested Lists"
   ]
  },
  {
   "cell_type": "code",
   "execution_count": 80,
   "id": "bd614b2c-eeb5-4634-8034-a753224e0704",
   "metadata": {},
   "outputs": [
    {
     "name": "stdin",
     "output_type": "stream",
     "text": [
      " 5\n",
      " Harsh\n",
      " 20\n",
      " Beria\n",
      " 20\n",
      " Varun\n",
      " 19\n",
      " Kikunami\n",
      " 19\n",
      " Vikas\n",
      " 21\n"
     ]
    },
    {
     "name": "stdout",
     "output_type": "stream",
     "text": [
      "Beria\n",
      "Harsh\n"
     ]
    }
   ],
   "source": [
    "if __name__ == '__main__':\n",
    "    temp = []\n",
    "    for _ in range(int(input())):\n",
    "        name = input()\n",
    "        score = float(input())\n",
    "        temp.append([score, name])\n",
    "        temp.sort()\n",
    "        temp2 = []\n",
    "        result = []\n",
    "    for i in range(len(temp)) :\n",
    "        if (temp[i][0] != temp[0][0]) :\n",
    "            temp2.append(temp[i])\n",
    "        temp2.sort()\n",
    "    for j in range(len(temp2)) :\n",
    "        if (temp2[j][0] == temp2[0][0]) :\n",
    "            result.append(temp2[j][1])\n",
    "    result.sort()\n",
    "    result\n",
    "    for k in range(len(result)) :\n",
    "        print(result[k])"
   ]
  },
  {
   "cell_type": "markdown",
   "id": "b3c9a5bd-35fb-4b44-9ce4-be82a4aad110",
   "metadata": {},
   "source": [
    "## 18. Finding the percentage"
   ]
  },
  {
   "cell_type": "code",
   "execution_count": 105,
   "id": "1af8837d-4c8d-4157-8fcd-112c540d5418",
   "metadata": {},
   "outputs": [
    {
     "name": "stdin",
     "output_type": "stream",
     "text": [
      " 3\n",
      " k 1 2 3\n",
      " s 4 5 6\n",
      " y 7 8 9\n",
      " s\n"
     ]
    },
    {
     "name": "stdout",
     "output_type": "stream",
     "text": [
      "5.00\n"
     ]
    }
   ],
   "source": [
    "if __name__ == '__main__':\n",
    "    n = int(input())\n",
    "    student_marks = {}\n",
    "    for _ in range(n):\n",
    "        name, *line = input().split()\n",
    "        scores = list(map(float, line))\n",
    "        student_marks[name] = scores\n",
    "    query_name = input()\n",
    "    res_len = len(student_marks.get(f'{query_name}'))\n",
    "    result = 0\n",
    "    for i in range(res_len) :\n",
    "        result += student_marks.get(f'{query_name}')[i]\n",
    "    print(format(result / len(student_marks.get(f'{query_name}')), '.2f'))"
   ]
  },
  {
   "cell_type": "markdown",
   "id": "b2556d24-1f9e-4aa5-b1e5-7358d1153493",
   "metadata": {},
   "source": [
    "## 19. String Split and Join"
   ]
  },
  {
   "cell_type": "code",
   "execution_count": 114,
   "id": "1ae96d97-d738-4176-b4e2-91b4c7ae7b18",
   "metadata": {},
   "outputs": [
    {
     "name": "stdin",
     "output_type": "stream",
     "text": [
      " this is a string\n"
     ]
    },
    {
     "name": "stdout",
     "output_type": "stream",
     "text": [
      "this-is-a-string\n"
     ]
    }
   ],
   "source": [
    "def split_and_join(line):\n",
    "    temp = []\n",
    "    result = ''\n",
    "    temp = line.split(' ')\n",
    "    for i in range(len(temp)) :\n",
    "        result = result + '-' + temp[i]\n",
    "    return result[1:]\n",
    "        \n",
    "if __name__ == '__main__':\n",
    "    line = input()\n",
    "    result = split_and_join(line)\n",
    "    print(result)"
   ]
  },
  {
   "cell_type": "markdown",
   "id": "c6437404-23da-4c0f-a3dc-338920a24250",
   "metadata": {},
   "source": [
    "## 20. What's Your Name?"
   ]
  },
  {
   "cell_type": "code",
   "execution_count": 115,
   "id": "27811020-7d0b-4e7b-9668-4436e077b937",
   "metadata": {},
   "outputs": [
    {
     "name": "stdin",
     "output_type": "stream",
     "text": [
      " Ross\n",
      " Taylor\n"
     ]
    },
    {
     "name": "stdout",
     "output_type": "stream",
     "text": [
      "Hello Ross Taylor! You just delved into python.\n"
     ]
    }
   ],
   "source": [
    "# Complete the 'print_full_name' function below.\n",
    "#\n",
    "# The function is expected to return a STRING.\n",
    "# The function accepts following parameters:\n",
    "#  1. STRING first\n",
    "#  2. STRING last\n",
    "#\n",
    "\n",
    "def print_full_name(first, last):\n",
    "    print(f'Hello {first} {last}! You just delved into python.')\n",
    "\n",
    "if __name__ == '__main__':\n",
    "    first_name = input()\n",
    "    last_name = input()\n",
    "    print_full_name(first_name, last_name)"
   ]
  }
 ],
 "metadata": {
  "kernelspec": {
   "display_name": "Python 3",
   "language": "python",
   "name": "python3"
  },
  "language_info": {
   "codemirror_mode": {
    "name": "ipython",
    "version": 3
   },
   "file_extension": ".py",
   "mimetype": "text/x-python",
   "name": "python",
   "nbconvert_exporter": "python",
   "pygments_lexer": "ipython3",
   "version": "3.8.8"
  }
 },
 "nbformat": 4,
 "nbformat_minor": 5
}

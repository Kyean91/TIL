{
 "cells": [
  {
   "cell_type": "markdown",
   "id": "5f0e6d66-0343-4560-aca3-eca12e042f7a",
   "metadata": {},
   "source": [
    "## 58. itertools.combinations()"
   ]
  },
  {
   "cell_type": "code",
   "execution_count": 72,
   "id": "dcf6ae80-424e-4941-9ea3-4f52d55a1c17",
   "metadata": {},
   "outputs": [
    {
     "name": "stdin",
     "output_type": "stream",
     "text": [
      " HACK 2\n"
     ]
    },
    {
     "name": "stdout",
     "output_type": "stream",
     "text": [
      "A\n",
      "C\n",
      "H\n",
      "K\n",
      "AC\n",
      "AH\n",
      "AK\n",
      "CH\n",
      "CK\n",
      "HK\n"
     ]
    }
   ],
   "source": [
    "from itertools import combinations\n",
    "\n",
    "s, k = input().split()\n",
    "s = [i for i in s]\n",
    "\n",
    "for i in range(int(k)) :\n",
    "    temp = list(combinations(s, (i + 1)))\n",
    "    \n",
    "    for j in range(len(temp)) :\n",
    "        temp[j] = tuple(sorted(temp[j]))\n",
    "    temp.sort()\n",
    "    \n",
    "    for k in range(len(temp)) :\n",
    "        print(''.join(temp[k]))"
   ]
  },
  {
   "cell_type": "markdown",
   "id": "bfd76bbf-b9b6-4d63-b296-053bdb7f9d03",
   "metadata": {},
   "source": [
    "## 59. itertools.combinations_with_replacement()"
   ]
  },
  {
   "cell_type": "code",
   "execution_count": 92,
   "id": "59d6448e-0681-4408-acb6-1be828fb679b",
   "metadata": {},
   "outputs": [
    {
     "name": "stdin",
     "output_type": "stream",
     "text": [
      " HACK 2\n"
     ]
    },
    {
     "name": "stdout",
     "output_type": "stream",
     "text": [
      "AA\n",
      "AC\n",
      "AH\n",
      "AK\n",
      "CC\n",
      "CH\n",
      "CK\n",
      "HH\n",
      "HK\n",
      "KK\n"
     ]
    }
   ],
   "source": [
    "from itertools import combinations_with_replacement\n",
    "\n",
    "s, k = input().split()\n",
    "s = [i for i in s]\n",
    "temp = list(combinations_with_replacement(s, int(k)))\n",
    "\n",
    "for j in range(len(temp)) :\n",
    "    temp[j] = tuple(sorted(temp[j]))\n",
    "    \n",
    "temp.sort()\n",
    "\n",
    "for k in range(len(temp)) :\n",
    "    print(''.join(temp[k]))"
   ]
  },
  {
   "cell_type": "markdown",
   "id": "91d5d321-7f92-4d08-90d1-bf00a72f7a9e",
   "metadata": {},
   "source": [
    "## 60. Compress the String!"
   ]
  },
  {
   "cell_type": "code",
   "execution_count": 117,
   "id": "0e2025e3-b9a8-490e-a239-d6bcfc4b9a82",
   "metadata": {},
   "outputs": [
    {
     "name": "stdin",
     "output_type": "stream",
     "text": [
      " 1222311\n"
     ]
    },
    {
     "name": "stdout",
     "output_type": "stream",
     "text": [
      "(1, 1) (3, 2) (1, 3) (2, 1) "
     ]
    }
   ],
   "source": [
    "from itertools import *\n",
    "\n",
    "s = input()\n",
    "\n",
    "for i, j in groupby(map(int, list(s))) : \n",
    "    print(tuple([len(list(j)), i]), end = ' ')"
   ]
  }
 ],
 "metadata": {
  "kernelspec": {
   "display_name": "Python 3 (ipykernel)",
   "language": "python",
   "name": "python3"
  },
  "language_info": {
   "codemirror_mode": {
    "name": "ipython",
    "version": 3
   },
   "file_extension": ".py",
   "mimetype": "text/x-python",
   "name": "python",
   "nbconvert_exporter": "python",
   "pygments_lexer": "ipython3",
   "version": "3.8.10"
  }
 },
 "nbformat": 4,
 "nbformat_minor": 5
}

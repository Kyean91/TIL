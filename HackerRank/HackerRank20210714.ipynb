{
 "cells": [
  {
   "cell_type": "markdown",
   "id": "4861d603-712f-4a8d-be86-7e3a80a6d611",
   "metadata": {},
   "source": [
    "## 46. Polar Coordinates"
   ]
  },
  {
   "cell_type": "code",
   "execution_count": 42,
   "id": "f409ab81-7939-485b-ae07-78c7f229a266",
   "metadata": {},
   "outputs": [
    {
     "name": "stdin",
     "output_type": "stream",
     "text": [
      " 1+2j\n"
     ]
    },
    {
     "name": "stdout",
     "output_type": "stream",
     "text": [
      "2.23606797749979\n",
      "1.1071487177940904\n"
     ]
    }
   ],
   "source": [
    "import cmath\n",
    "import math\n",
    "\n",
    "inp = input()\n",
    "\n",
    "print(abs(complex(inp)))\n",
    "print(cmath.phase(complex(inp)))"
   ]
  },
  {
   "cell_type": "markdown",
   "id": "ed191863-2cda-492b-889e-8112c51f7d64",
   "metadata": {},
   "source": [
    "## 47. Find Angle MBC"
   ]
  },
  {
   "cell_type": "code",
   "execution_count": 69,
   "id": "0be0f432-bc5b-4ded-8c96-51cf46abb464",
   "metadata": {},
   "outputs": [
    {
     "name": "stdin",
     "output_type": "stream",
     "text": [
      " 1\n",
      " 10\n"
     ]
    },
    {
     "name": "stdout",
     "output_type": "stream",
     "text": [
      "6°\n"
     ]
    }
   ],
   "source": [
    "import math\n",
    "\n",
    "a = int(input())\n",
    "b = int(input())\n",
    "c = math.sqrt((a ** 2) + (b ** 2)) / 2\n",
    "d = b / 2\n",
    "\n",
    "result = str(int(round(math.degrees(math.acos(d/c)))))\n",
    "\n",
    "print(result + chr(176))"
   ]
  },
  {
   "cell_type": "markdown",
   "id": "ffdfdab0-cbf9-4550-9884-9dbe00765746",
   "metadata": {},
   "source": [
    "## 48. Triangle Quest 2\n",
    "\n"
   ]
  },
  {
   "cell_type": "code",
   "execution_count": 77,
   "id": "99de4b57-b985-4fb4-825b-50a284302004",
   "metadata": {},
   "outputs": [
    {
     "name": "stdin",
     "output_type": "stream",
     "text": [
      " 3\n"
     ]
    },
    {
     "name": "stdout",
     "output_type": "stream",
     "text": [
      "1\n",
      "121\n",
      "12321\n"
     ]
    }
   ],
   "source": [
    "n = int(input())\n",
    "\n",
    "for i in range(1, (n + 1)) :\n",
    "    print((round(((10 ** i) - 1) / 9) ** 2))"
   ]
  }
 ],
 "metadata": {
  "kernelspec": {
   "display_name": "Python 3 (ipykernel)",
   "language": "python",
   "name": "python3"
  },
  "language_info": {
   "codemirror_mode": {
    "name": "ipython",
    "version": 3
   },
   "file_extension": ".py",
   "mimetype": "text/x-python",
   "name": "python",
   "nbconvert_exporter": "python",
   "pygments_lexer": "ipython3",
   "version": "3.8.10"
  }
 },
 "nbformat": 4,
 "nbformat_minor": 5
}

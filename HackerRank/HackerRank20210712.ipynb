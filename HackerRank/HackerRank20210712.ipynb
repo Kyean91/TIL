{
 "cells": [
  {
   "cell_type": "markdown",
   "id": "0d717d90-3b9f-4b10-86a4-b79e2ee4b0cf",
   "metadata": {},
   "source": [
    "## 40. Collections.namedtuple()"
   ]
  },
  {
   "cell_type": "code",
   "execution_count": 51,
   "id": "da96f8bd-0508-4ca8-a253-81fba318a2f8",
   "metadata": {},
   "outputs": [
    {
     "name": "stdin",
     "output_type": "stream",
     "text": [
      " 5\n",
      " ID         MARKS      NAME       CLASS\n",
      " 1          97         Raymond    7\n",
      " 2          50         Steven     4\n",
      " 3          91         Adrian     9\n",
      " 4          72         Stewart    5\n",
      " 5          80         Peter      6\n"
     ]
    },
    {
     "name": "stdout",
     "output_type": "stream",
     "text": [
      " 78.00\n"
     ]
    }
   ],
   "source": [
    "from collections import namedtuple\n",
    "\n",
    "n = int(input())\n",
    "result = 0\n",
    "col_name = ','.join(input().split())\n",
    "Student = namedtuple('Student', col_name)\n",
    "\n",
    "for i in range(n) :\n",
    "    row = input().split()\n",
    "    student = Student(*row)\n",
    "    result += int(student.MARKS)\n",
    "\n",
    "print(f'{(result / n) : .2f}')"
   ]
  },
  {
   "cell_type": "markdown",
   "id": "1a00bdb7-9584-43cb-83ea-9e0d3e20873f",
   "metadata": {},
   "source": [
    "## 41. Collections.OrderedDict()"
   ]
  },
  {
   "cell_type": "code",
   "execution_count": 95,
   "id": "9fe704ba-5171-44fb-9b43-243f5c2c1aba",
   "metadata": {},
   "outputs": [
    {
     "name": "stdin",
     "output_type": "stream",
     "text": [
      " 9\n",
      " BANANA FRIES 12\n",
      " POTATO CHIPS 30\n",
      " APPLE JUICE 10\n",
      " CANDY 5\n",
      " APPLE JUICE 10\n",
      "  CANDY 5\n",
      "  CANDY 5\n",
      "  CANDY 5\n",
      " POTATO CHIPS 30\n"
     ]
    },
    {
     "name": "stdout",
     "output_type": "stream",
     "text": [
      "BANANA FRIES 12\n",
      "POTATO CHIPS 60\n",
      "APPLE JUICE 20\n",
      "CANDY 5\n",
      "CANDY 15\n"
     ]
    }
   ],
   "source": [
    "from collections import OrderedDict\n",
    "\n",
    "n = int(input())\n",
    "inp = OrderedDict()\n",
    "\n",
    "for i in range(n) :\n",
    "    item = input().split(' ')\n",
    "    name = ' '.join(item[:-1])\n",
    "    price = int(item[-1])\n",
    "    if name in inp.keys() :\n",
    "        inp[f'{name}'] += price\n",
    "    else : \n",
    "        inp[f'{name}'] = price\n",
    "for j in inp.keys() :\n",
    "    print(j.lstrip(), inp[j])"
   ]
  },
  {
   "cell_type": "markdown",
   "id": "9c6118a9-1218-4212-b6aa-734bb9ff433f",
   "metadata": {},
   "source": [
    "## 42. Word Order"
   ]
  },
  {
   "cell_type": "code",
   "execution_count": 102,
   "id": "ccd1f1a4-acde-4979-85a5-7b62d07421a4",
   "metadata": {},
   "outputs": [
    {
     "name": "stdin",
     "output_type": "stream",
     "text": [
      " 4\n",
      " bcdef\n",
      " abcdefg\n",
      " bcde\n",
      " bcdef\n"
     ]
    },
    {
     "name": "stdout",
     "output_type": "stream",
     "text": [
      "3\n",
      "dict_values([2, 1, 1])\n"
     ]
    }
   ],
   "source": [
    "n = int(input())\n",
    "dic = {}\n",
    "num = 0\n",
    "\n",
    "for i in range(n) :\n",
    "    word = input()\n",
    "    if word in dic.keys() :\n",
    "        dic[f'{word}'] += 1\n",
    "    else :\n",
    "        dic[f'{word}'] = 1\n",
    "print(len(dic.keys()))\n",
    "print(*dic.values())"
   ]
  }
 ],
 "metadata": {
  "kernelspec": {
   "display_name": "Python 3 (ipykernel)",
   "language": "python",
   "name": "python3"
  },
  "language_info": {
   "codemirror_mode": {
    "name": "ipython",
    "version": 3
   },
   "file_extension": ".py",
   "mimetype": "text/x-python",
   "name": "python",
   "nbconvert_exporter": "python",
   "pygments_lexer": "ipython3",
   "version": "3.8.10"
  }
 },
 "nbformat": 4,
 "nbformat_minor": 5
}

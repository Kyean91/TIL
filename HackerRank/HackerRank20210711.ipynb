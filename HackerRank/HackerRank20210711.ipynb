{
 "cells": [
  {
   "cell_type": "markdown",
   "id": "fbde31f3-e357-4630-be27-37714cb0ef19",
   "metadata": {},
   "source": [
    "## 37. itertools.permutations()"
   ]
  },
  {
   "cell_type": "code",
   "execution_count": 32,
   "id": "97e782ea-5650-4307-afde-bac96e881811",
   "metadata": {},
   "outputs": [
    {
     "name": "stdin",
     "output_type": "stream",
     "text": [
      " HACK 2\n"
     ]
    },
    {
     "name": "stdout",
     "output_type": "stream",
     "text": [
      "AC\n",
      "AH\n",
      "AK\n",
      "CA\n",
      "CH\n",
      "CK\n",
      "HA\n",
      "HC\n",
      "HK\n",
      "KA\n",
      "KC\n",
      "KH\n"
     ]
    }
   ],
   "source": [
    "from itertools import permutations\n",
    "\n",
    "s, k = input().split(' ')\n",
    "s = map(str, s)\n",
    "k = int(k)\n",
    "\n",
    "temp = list(permutations(s, k))\n",
    "temp.sort()\n",
    "\n",
    "for i in range(len(temp)) :\n",
    "    result = ''\n",
    "    for j in range(len(temp[i])) :\n",
    "        result += temp[i][j]\n",
    "    print(result)"
   ]
  },
  {
   "cell_type": "markdown",
   "id": "00f28afe-edd9-48af-acf4-964053dce4d4",
   "metadata": {},
   "source": [
    "## 38. collections.Counter()"
   ]
  },
  {
   "cell_type": "code",
   "execution_count": 12,
   "id": "e3baa4f7-1daa-4998-a1ee-7d448293b5d6",
   "metadata": {},
   "outputs": [
    {
     "name": "stdin",
     "output_type": "stream",
     "text": [
      " 10\n",
      " 2 3 4 5 6 8 7 6 18\n",
      " 6\n",
      " 6 55\n",
      " 6 45\n",
      " 6 55\n",
      " 4 40\n",
      " 18 60\n",
      " 10 50\n"
     ]
    },
    {
     "name": "stdout",
     "output_type": "stream",
     "text": [
      "200\n"
     ]
    }
   ],
   "source": [
    "tot_money = 0\n",
    "num_shoe = int(input())\n",
    "shoe_size = list(map(int, input().split(' ')))\n",
    "num_cust = int(input())\n",
    "for i in range(num_cust) :\n",
    "    size, price = map(int, input().split(' '))\n",
    "    if size in shoe_size :\n",
    "        tot_money += price\n",
    "        shoe_size.remove(size)\n",
    "print(tot_money)"
   ]
  },
  {
   "cell_type": "markdown",
   "id": "26d14ef6-5fa0-48ec-b0bc-5d0d30254200",
   "metadata": {},
   "source": [
    "## 39. DefaultDict Tutorial"
   ]
  },
  {
   "cell_type": "code",
   "execution_count": 59,
   "id": "72619bcc-5437-46d5-b23c-33235507fa2c",
   "metadata": {},
   "outputs": [
    {
     "name": "stdin",
     "output_type": "stream",
     "text": [
      " 1 1\n",
      " s\n",
      " t\n"
     ]
    },
    {
     "name": "stdout",
     "output_type": "stream",
     "text": [
      "-1\n"
     ]
    }
   ],
   "source": [
    "size_a, size_b = map(int, input().split(' '))\n",
    "a_list = ['0']\n",
    "b_list = ['0']\n",
    "\n",
    "if (1 <= size_a <= 10000) & (1 <= size_b <= 100) :\n",
    "    for i in range(size_a) :\n",
    "        a = input()\n",
    "        if (1 <= len(a) <= 100) :\n",
    "            a_list.append(a)\n",
    "    for j in range(size_b) :\n",
    "        b = input()\n",
    "        if (1 <= len(b) <= 100) :\n",
    "            b_list.append(b)\n",
    "    for k in range(size_b) :\n",
    "        if b_list[k + 1 ] in a_list :\n",
    "            result = filter(lambda x : a_list[x] == b_list[k + 1], range(len(a_list)))\n",
    "            print(*result)\n",
    "        else : \n",
    "            result = -1\n",
    "            print(result)"
   ]
  }
 ],
 "metadata": {
  "kernelspec": {
   "display_name": "Python 3 (ipykernel)",
   "language": "python",
   "name": "python3"
  },
  "language_info": {
   "codemirror_mode": {
    "name": "ipython",
    "version": 3
   },
   "file_extension": ".py",
   "mimetype": "text/x-python",
   "name": "python",
   "nbconvert_exporter": "python",
   "pygments_lexer": "ipython3",
   "version": "3.8.10"
  }
 },
 "nbformat": 4,
 "nbformat_minor": 5
}
